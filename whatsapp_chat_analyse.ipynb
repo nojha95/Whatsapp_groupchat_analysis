{
  "nbformat": 4,
  "nbformat_minor": 0,
  "metadata": {
    "colab": {
      "name": "whatsapp chat analyse.ipynb",
      "provenance": [],
      "mount_file_id": "1eBzeE6AXrRS-vt31hmcMSIJLLr6frvh-",
      "authorship_tag": "ABX9TyOcgCFdQII9PY0j8I/4GXJ7",
      "include_colab_link": true
    },
    "kernelspec": {
      "name": "python3",
      "display_name": "Python 3"
    }
  },
  "cells": [
    {
      "cell_type": "markdown",
      "metadata": {
        "id": "view-in-github",
        "colab_type": "text"
      },
      "source": [
        "<a href=\"https://colab.research.google.com/github/nojha95/Whatsapp_groupchat_analysis/blob/main/whatsapp_chat_analyse.ipynb\" target=\"_parent\"><img src=\"https://colab.research.google.com/assets/colab-badge.svg\" alt=\"Open In Colab\"/></a>"
      ]
    },
    {
      "cell_type": "code",
      "metadata": {
        "id": "FaEkEtgIgDTh"
      },
      "source": [
        "import pandas as pd\n",
        "import numpy as np\n",
        "import re\n",
        "import regex"
      ],
      "execution_count": null,
      "outputs": []
    },
    {
      "cell_type": "code",
      "metadata": {
        "id": "WiXZ10XBdXLG"
      },
      "source": [
        "import matplotlib.pyplot as plt\n",
        "import plotly.express as px\n"
      ],
      "execution_count": 2,
      "outputs": []
    },
    {
      "cell_type": "code",
      "metadata": {
        "colab": {
          "base_uri": "https://localhost:8080/"
        },
        "id": "TyW4rqn5hBcs",
        "outputId": "74899fa2-225f-4b46-82fd-b0b00c0ec5ac"
      },
      "source": [
        "from google.colab import drive\n",
        "drive.mount('/gdrive')"
      ],
      "execution_count": 3,
      "outputs": [
        {
          "output_type": "stream",
          "text": [
            "Mounted at /gdrive\n"
          ],
          "name": "stdout"
        }
      ]
    },
    {
      "cell_type": "code",
      "metadata": {
        "id": "PRBK18DfhBcu"
      },
      "source": [
        "file = '/gdrive/MyDrive/WhatsApp Chat with Trip trip trip_1.txt' "
      ],
      "execution_count": 4,
      "outputs": []
    },
    {
      "cell_type": "code",
      "metadata": {
        "id": "-hOBKVObh6Ga"
      },
      "source": [
        " x = open(file,'r', encoding = 'utf-8')"
      ],
      "execution_count": 5,
      "outputs": []
    },
    {
      "cell_type": "code",
      "metadata": {
        "id": "KWQ-U2EPkrZP"
      },
      "source": [
        "y = x.read()"
      ],
      "execution_count": 6,
      "outputs": []
    },
    {
      "cell_type": "code",
      "metadata": {
        "colab": {
          "base_uri": "https://localhost:8080/"
        },
        "id": "-A23WXNKmQ5n",
        "outputId": "1aba6b65-85b6-4ffa-a0a1-5c135e163b83"
      },
      "source": [
        "chat = y.splitlines()\n",
        "print(len(chat))\n"
      ],
      "execution_count": 7,
      "outputs": [
        {
          "output_type": "stream",
          "text": [
            "929\n"
          ],
          "name": "stdout"
        }
      ]
    },
    {
      "cell_type": "markdown",
      "metadata": {
        "id": "V203BPDOnO6g"
      },
      "source": [
        "Merge messages that belong together\n",
        "\n",
        "For every line, see if it matches the expression which is starting with the format \"number(s)+slash\" eg \"12/\"\n",
        "If it does, it is a new line of conversion as they begin with dates, add it to msgs container\n",
        "Else, it is a continuation of the previous line, add it to the previous line and append to msgs, then pop previous line."
      ]
    },
    {
      "cell_type": "code",
      "metadata": {
        "colab": {
          "base_uri": "https://localhost:8080/"
        },
        "id": "8TScT5a5ud7d",
        "outputId": "709d49c3-bc91-4e15-c8bf-bb378831fd51"
      },
      "source": [
        "clean_chat = chat[3:]\n",
        "print(clean_chat)"
      ],
      "execution_count": 8,
      "outputs": [
        {
          "output_type": "stream",
          "text": [
            "['24/10/20, 1:05 pm - Vandy: ok', '24/10/20, 5:56 pm - Vandy: Call hai na?', '24/10/20, 5:59 pm - Baruni: 15 min do', '24/10/20, 5:59 pm - N O: same 15 min do', '24/10/20, 5:59 pm - Vandy: Cool', '24/10/20, 5:59 pm - Baruni: @919953455339 @918874822014 nd @919650297140 arahe?', '24/10/20, 5:59 pm - Vandy: 😂', '24/10/20, 6:05 pm - N O: 6:30 tak krte hai sorry', '24/10/20, 6:21 pm - N O: i am free ab karlo', '24/10/20, 6:27 pm - Vandy: Baru?', '24/10/20, 6:30 pm - Baruni: Ok krooo', '27/10/20, 4:48 pm - N O: <Media omitted>', '27/10/20, 4:48 pm - Baruni: Aap late hai', '27/10/20, 5:29 pm - Vandy: Ek zero kam ni hai??', '27/10/20, 6:00 pm - Baruni: Hup', '28/10/20, 10:11 am - N O: <Media omitted>', '28/10/20, 10:16 am - Vandy: 🤣🤣', '29/10/20, 2:56 pm - Vandy: <Media omitted>', '30/10/20, 9:27 am - Baruni: Aj chutti hai kisi ki?', '30/10/20, 9:28 am - N O: Meri', '30/10/20, 9:39 am - Vandy: Nope', '30/10/20, 9:41 am - Baruni: Saali eid hai aj', '30/10/20, 9:41 am - Baruni: Chut le', '30/10/20, 9:41 am - Baruni: Chiti', '30/10/20, 10:14 am - Vandy: \\U0001f9df\\u200d♀️', '30/10/20, 11:35 am - N O: Ghanta hi chutti ha.. abhi ppt deke hata hu and mail aagya ki 6 baje exam rakh diya gya hai🤦🏻\\u200d♂️', '30/10/20, 11:48 am - Baruni: Lol welcome to my world', '30/10/20, 5:55 pm - N O: Kal kon kon free ha milne ka plan banate ha', '30/10/20, 5:56 pm - Vandy: Ek kaam karo', 'Plan bana lo', 'Mera abhi confirm ni hai', 'I will definitely try', 'I have some work to do which i will try aaj raat late tk finish kar lu ', 'Plan hoga to i will join you all', '30/10/20, 5:57 pm - Baruni: Tere ghr tapkemge🤣', '30/10/20, 5:57 pm - Baruni: Main finsih krwaungi bta bta kb krna hai', '30/10/20, 5:57 pm - Vandy: Mere ghar mat ana', 'Diwali safai honi hai is weekend', '30/10/20, 5:58 pm - Vandy: Tumhara hath me jhadoo hogi', '30/10/20, 5:58 pm - Baruni: Shopping chlenge fir indore jane ke liye', '30/10/20, 5:58 pm - Baruni: I dnt mind', '30/10/20, 5:58 pm - Baruni: Best chlo fir tere yaha', '30/10/20, 5:58 pm - N O: @919953455339 tu bhi bata', '30/10/20, 6:01 pm - Vandy: Arre serious plan banao', '30/10/20, 6:01 pm - Vandy: As in ache se banao banana hai to', '30/10/20, 6:03 pm - Baruni: Serious hi bna rahi waise sun', '30/10/20, 6:04 pm - Baruni: Main subha cp jana hai dentist ke yaha wahi ajao', '30/10/20, 6:05 pm - Vandy: Ek question hai', 'Hum jayenge kaise? Kahi bhi?', '30/10/20, 6:05 pm - Baruni: Arey fuck wahi', '30/10/20, 6:38 pm - Aditi: Yr fir bahar jaake khana bhi padega ?', '30/10/20, 6:39 pm - Vandy: Hehe', 'Mujhe lagta hai tum log jab end sem break me ghar aoge tab hi milna hoga', 'Abhi to traveling food everything is an issue', '30/10/20, 6:39 pm - Aditi: I have an option. People usually go for morning cycling rides. Why dont we do that ? And milna bhi ho jayega', '30/10/20, 6:40 pm - Vandy: How will we gather at one place?', 'Dont tell me cycling kar ke kirti nagar jaana hai', 'Mujhe road pe darr lagta hai', '30/10/20, 6:41 pm - Aditi: Pehle aisi jagah jao jahaan bikes milti h for rent.', '30/10/20, 6:41 pm - Vandy: 😂', '30/10/20, 6:43 pm - Aditi: Maine apni bike dedi thi 🙄 last year. Agar corona thoda pehle notice de deta i would have waited 😕😂', \"30/10/20, 6:44 pm - Aditi: Mujhe bas sanitization ka OCD h. I know people like me are pain in the ass but I can't help it🤷🏻\\u200d♀️\", '30/10/20, 7:03 pm - N O: Hamara coding test hua abhi sabke zero🤣🤣🤣', '30/10/20, 7:04 pm - Vandy: 😂😂', 'Unity', '30/10/20, 7:04 pm - Vandy: Bhai logo baad me milte hai ', 'Abhi ke liye video call pe zinda raho', '30/10/20, 7:04 pm - Vandy: Kal bottle le ke video call karte hai', '30/10/20, 7:04 pm - N O: aree kyuuu mera aj test khatam ho gaye sare', '30/10/20, 7:11 pm - Baruni: Ghr se pack krla humare liye bhi', '30/10/20, 7:11 pm - Baruni: I m in', '30/10/20, 7:13 pm - Baruni: Co', '30/10/20, 7:13 pm - Baruni: Cp', '30/10/20, 7:13 pm - Baruni: Bolti hun agli bar dhyan rakhega..aisa thodi aditi ko btaye bona agya doggie', '30/10/20, 7:13 pm - Baruni: Chlo late pta chala bt koi na', '30/10/20, 7:13 pm - Baruni: Done aj hi krlo kuttp', '30/10/20, 7:15 pm - N O: Peene chalte ha kal kahi. Aj ke 0 number ka gam mitana ha', '30/10/20, 7:16 pm - Baruni: Gum zarur hatt nautanki', '30/10/20, 7:16 pm - Vandy: Listen ', 'U guys plan and meet', 'Mujhe seriously bahut kaam hai is weekend ', 'I basically have to study for something...its a global level thing and i have to do it for my team', '30/10/20, 7:16 pm - Baruni: Sbke 0 pr gum ni kahte mjhse puch gum', '30/10/20, 7:16 pm - Baruni: Nope', '30/10/20, 7:17 pm - N O: Are aj ham tere sath jagte ha and padhke khatam kar denge..kal party', '30/10/20, 7:18 pm - Baruni: Done', '30/10/20, 7:20 pm - Vandy: Ni', 'Vo to main start hi kal kar paungi', 'Aaj dusra karna hai', 'Ye weekend hi khatarnaak hai mere liye', '30/10/20, 7:31 pm - Aditi: Shit', '30/10/20, 7:32 pm - Baruni: Welcome 😎', '30/10/20, 8:44 pm - N O: Confirm kardo ki plan ha kal ka ya nahi mai apna schedule usi hisab se banau phir', '30/10/20, 9:06 pm - Vandy: Bana le apna plan', '30/10/20, 9:07 pm - Vandy: Unless u all are actually meeting', '31/10/20, 12:50 pm - N O: Aj karni hai confrence call?', '31/10/20, 12:51 pm - Vandy: Time?', '31/10/20, 12:51 pm - N O: Batao kab free ho sab?', '31/10/20, 12:52 pm - Vandy: Shaam ko kare?', '31/10/20, 12:52 pm - Vandy: Ya raat ko?', '8?', '31/10/20, 12:52 pm - N O: Kabhi bhi karlo aj free hi hu mai', '31/10/20, 12:53 pm - N O: 6-7 sahi ha', '31/10/20, 12:54 pm - Baruni: ok anytime...Meeku decides wen am free nowdays', '31/10/20, 1:03 pm - Vandy: 7.30 pls', '31/10/20, 1:08 pm - Baruni: Jb bol tu janeman aj ka din hai tere pass', '31/10/20, 1:09 pm - Vandy: Aaj ka din hi to ni hai mere pass', '31/10/20, 1:09 pm - Vandy: 😣', '31/10/20, 1:09 pm - Baruni: Nikal kahi se', '31/10/20, 7:37 pm - Vandy: Call accept karo', '31/10/20, 7:37 pm - Vandy: Add karna pla', '31/10/20, 7:52 pm - Baruni: Add me', '31/10/20, 8:22 pm - Aditi: Unavailable right now guys', '31/10/20, 8:22 pm - Vandy: Kya hua?', '31/10/20, 8:23 pm - Baruni: Janeman available kb hoti hai aap', '31/10/20, 8:23 pm - Baruni: Hume bhi samay dedia kro', '31/10/20, 9:47 pm - Vandy: FYI - watching ‘on the basis of sex’', 'U Gotta watch it guys', '31/10/20, 9:47 pm - Vandy: Based on Real story', '31/10/20, 9:47 pm - N O: kaha pe hai', '31/10/20, 9:48 pm - Vandy: Sonyliv', '31/10/20, 9:48 pm - Baruni: Time de mjhe', '31/10/20, 9:49 pm - Vandy: ?', '31/10/20, 9:56 pm - Baruni: Hehe kuch ni', '07/11/20, 6:42 pm - N O: Ayushman ne murder kara ha', '07/11/20, 6:43 pm - Baruni: Tu kyu zinda hai?', '07/11/20, 6:43 pm - Vandy: Kya bol rha hai?', '07/11/20, 6:48 pm - N O: Tumhri gebral knowledge kha ha', '07/11/20, 6:48 pm - Vandy: 😴', '07/11/20, 6:48 pm - N O: Fanboys ho tum Ayushman is murder kara', '07/11/20, 6:49 pm - Vandy: Abe context de', 'Abcde.....', 'Direct z pe ni jate', '07/11/20, 6:49 pm - Vandy: Kuch samajh ni aa rha', '07/11/20, 6:54 pm - N O: Anfhadhun kisjne dekhi ha', '07/11/20, 6:55 pm - Vandy: Tune andhadun ab dekhi hai!!!!', '07/11/20, 7:01 pm - N O: Maine aj nhi dekha', '07/11/20, 7:02 pm - N O: But I discussed aj', '07/11/20, 7:02 pm - N O: Are you dobet ,?', '07/11/20, 7:11 pm - Vandy: 🤦🏻\\u200d♀️', '07/11/20, 7:12 pm - Baruni: @919013166066 ow high r u?', '07/11/20, 7:12 pm - Vandy: Partyyyyyy', '07/11/20, 7:19 pm - N O: Vanfy tum sangarsh karo ham tumhare sath hai', '07/11/20, 7:22 pm - N O: Movie dekh ke aao pehle', '07/11/20, 7:20 pm - Vandy: Kab tk sath nibhaoge?', '07/11/20, 7:21 pm - Baruni: Jb tk nasha chada hua hai use', '07/11/20, 7:24 pm - Vandy: Movie sab ne dekhi hai', 'Tu hosh me aa pehle', '07/11/20, 7:24 pm - N O: Mai hosh pe hu. I can see everything clearly ab', '07/11/20, 7:25 pm - N O: Ayushman killed and took ryed', '07/11/20, 7:25 pm - N O: Eyes₹', '07/11/20, 7:26 pm - N O: Ghor apradh hai', '07/11/20, 7:28 pm - Vandy: Survival of the fittest', '07/11/20, 7:29 pm - Vandy: Only see', 'Not think', '07/11/20, 7:30 pm - N O: Vandy tu bhi involved ha scam mai ? Why you, ?', '07/11/20, 7:32 pm - Vandy: 😈', '07/11/20, 7:32 pm - Baruni: Guys going to indore on 22/11 @9am', '07/11/20, 7:32 pm - N O: I will miss you. Dil tutta hua smily', '07/11/20, 7:33 pm - Baruni: Bhej to de smiley', '07/11/20, 7:33 pm - N O: Alexa send dil tuuta hua smily', '07/11/20, 7:33 pm - Vandy: Yayyy', 'Finally clg life vali feeling ayegi', 'Will miss you though', '07/11/20, 8:00 pm - N O: Naryana bihar kha ha', '07/11/20, 8:00 pm - N O: Send location', '07/11/20, 8:02 pm - N O: Alexa?', '07/11/20, 8:02 pm - Vandy: Where are you??', '07/11/20, 8:03 pm - Vandy: Kiske sath hai?', '07/11/20, 8:06 pm - Baruni: Miloge ni kya be', '07/11/20, 8:07 pm - Vandy: Kab?', '07/11/20, 8:07 pm - N O: Thanks Alexa for support', '07/11/20, 10:26 pm - Kartik M: haila naaiiccee 😛', '07/11/20, 10:27 pm - Kartik M: bhai teri online bhi college party chal rhi h kya😛', '07/11/20, 11:30 pm - N O: Broo tu delhi aa phir sahi party hogi', \"07/11/20, 11:35 pm - Baruni: Wo shadi shuda hai ab wo kids/bachelor's ke sath party ni krta\", '07/11/20, 11:41 pm - N O: Tu mile bina hi ja rhi ha?', '07/11/20, 11:51 pm - Baruni: tu hi milne ni araha mjhse', '07/11/20, 11:55 pm - N O: Tu bula to mai aajaunga', '07/11/20, 11:55 pm - Baruni: aur kitta bulau', '07/11/20, 11:55 pm - Vandy: Aaj to ye udd ke aa jayega', '07/11/20, 11:56 pm - N O: Kal chalte hai kahi', '07/11/20, 11:57 pm - Baruni: saalo kisi ko car chalani kyu ni ati', '07/11/20, 11:57 pm - Baruni: meri 2 clases hai kl bt after 6 krlo ya 12-4', '07/11/20, 11:57 pm - N O: Tu free kab hai pura din chiye tera', '07/11/20, 11:58 pm - Baruni: hatt sale', '07/11/20, 11:59 pm - N O: 24 ghante bhi nahi de skti?', '08/11/20, 12:01 am - Baruni: tjhe nhi', '08/11/20, 12:01 am - N O: Sad smily', '08/11/20, 2:11 am - Kartik M: yr tune to budhha bana diya seedha😛', '08/11/20, 8:12 am - Baruni: Jawan kb tha', '08/11/20, 9:11 am - N O: Aj confrence call ?', '08/11/20, 9:36 am - Baruni: Yo', '08/11/20, 9:43 am - Vandy: Shaam ko', '08/11/20, 9:44 am - Baruni: 5:15 kr bad fir', '08/11/20, 10:11 am - Vandy: Hn ok', '08/11/20, 10:11 am - N O: Yes done', '08/11/20, 10:11 am - N O: @919953455339 we demand your presence aj', '08/11/20, 10:12 am - Aditi: Hanji', '08/11/20, 10:12 am - Baruni: teri abhi tk ni utri?', '08/11/20, 10:12 am - Baruni: time btao be', '08/11/20, 10:14 am - N O: Nahi nahi utar gayi hai ab', '08/11/20, 10:16 am - Baruni: Maine kha ek do galia dedu', '08/11/20, 1:36 pm - N O: 5:30 ke around ?', '08/11/20, 1:37 pm - Baruni: Okie', '08/11/20, 1:39 pm - Vandy: Ok', '08/11/20, 5:29 pm - N O: 5:45 karein ?', '08/11/20, 5:30 pm - Vandy: Ok', '08/11/20, 5:35 pm - Baruni: Ok', '08/11/20, 6:00 pm - Baruni: Add me', '08/11/20, 6:15 pm - Aditi: Add me', '09/11/20, 8:15 pm - Baruni: guys sun ki jgaha friday night krna padega shyd', '09/11/20, 8:15 pm - Baruni: have a test on monday', '09/11/20, 8:16 pm - N O: Chlega mjhe', '09/11/20, 8:22 pm - Vandy: Yaar friday night ni', 'Choti diwali hai', 'Pooja bhi hoti hai', '09/11/20, 8:23 pm - Vandy: Monday to teri flight hai?', '09/11/20, 8:23 pm - Vandy: Usi din test', '09/11/20, 8:25 pm - Baruni: meri maa meri flight sun hai 22', '09/11/20, 8:26 pm - Vandy: Then will we able to meet on Sunday?', 'Hum to sunday lunch pe milne vale the', '09/11/20, 8:28 pm - Vandy: This message was deleted', '09/11/20, 8:28 pm - Vandy: This message was deleted', '09/11/20, 8:28 pm - Baruni: han mera test schedule chnge hogye aj jo test diwali ke din tha wo monday shift hogya', '09/11/20, 8:29 pm - Vandy: Fir kab mile?', '09/11/20, 8:30 pm - Baruni: choti diwali ya 12/13', '09/11/20, 8:30 pm - N O: 12/13 ko kya ha', '09/11/20, 8:30 pm - Baruni: dono mein se kbhi', '09/11/20, 8:31 pm - N O: 12 ko chutti ha teri ?', '09/11/20, 8:32 pm - Vandy: 12 is dhanteras ', '13 is choti diwali ', '14 is diwali', '09/11/20, 8:32 pm - N O: 12 ko chutti kis kis ki ha', '09/11/20, 8:34 pm - Vandy: Not mine', '09/11/20, 8:35 pm - Baruni: <Media omitted>', '09/11/20, 8:36 pm - N O: 12 ko chutti ha matlb', '09/11/20, 8:39 pm - Baruni: meri koi chutii ni kisi din', '09/11/20, 8:40 pm - N O: Hmm mera ye Thursday khali ha pura', '09/11/20, 11:02 pm - N O: Vandy Thursday ka final karde ?', '09/11/20, 11:05 pm - Vandy: Kal batati hun', '09/11/20, 11:06 pm - N O: Cool', '10/11/20, 5:24 pm - Baruni: mere ghr bhi akste ho seedha we can order here nd spnd more quality time', '10/11/20, 6:39 pm - Vandy: Ok', 'Batati hun raat tk', '10/11/20, 7:36 pm - Vandy: Night stay possible hai?', 'Agr main aa payi to 8.30 tk aa paungi so uske baad fir raat ko ghar vapis jaane ki problem hai', '10/11/20, 7:36 pm - Baruni: han han bindaas tu ruk ker kaam krwaio mera', '10/11/20, 7:36 pm - Baruni: packing nd all kuch to help kr kabhi', '10/11/20, 7:48 pm - Baruni: nd doggie ye puchta kaun hai?', '10/11/20, 7:49 pm - Vandy: Okay', 'Done', 'Thursday ', 'Time btao', 'Nikhil tu kab tk aa sakta hai?', '10/11/20, 7:50 pm - Vandy: @919953455339 & @919650297140 tum bhi aa jao', '10/11/20, 7:55 pm - Aditi: Dude. Ghar sanistise ho raha h. The kid isnt well', '10/11/20, 7:55 pm - Vandy: Oh god', '10/11/20, 7:57 pm - N O: Meri chutti hai kal parso mai kabhi bhi aa jaunga', '10/11/20, 7:58 pm - Vandy: 8 bje aa sakti hun main', '11/11/20, 10:58 am - Baruni: sun hi milte hai chodo', '11/11/20, 11:02 am - Vandy: Why?', '11/11/20, 11:05 am - Baruni: baki itta late kaise aynge', '11/11/20, 11:05 am - Baruni: sunday nikal lenge time', '11/11/20, 11:06 am - Baruni: rakho koi jagha will come', '11/11/20, 11:20 am - Vandy: Firstly aa kaun kaun rha hai?', '11/11/20, 11:21 am - Vandy: Secondly sunday karna hai to mujhe thoda time do', 'Maine sunday ke plans banaye the', '11/11/20, 11:21 am - Baruni: 2hr nikal le', '11/11/20, 11:21 am - Baruni: if possible', '11/11/20, 11:21 am - Baruni: sorry yaar bt bhut messed up hogya hai ekdum schedule', '11/11/20, 11:24 am - Vandy: Kal me problem kya hai pehle ye bta', '11/11/20, 11:24 am - Vandy: Sunday hi to tujhe jana hai', 'Us din to formality hogi milna cz 1-2 ghante k liye milna maza ni ayega', '11/11/20, 11:25 am - Baruni: usse jyada time dikh ni raha na baba kahi', '11/11/20, 11:25 am - Baruni: ya fir 19-21 mil lo', '11/11/20, 11:25 am - Vandy: Matlab?', '11/11/20, 11:26 am - Baruni: 18nov-20nov no test we can meet for dinner inmein se kbhi bhi', '11/11/20, 11:26 am - Vandy: I thought u are going this sunday', '11/11/20, 11:26 am - Baruni: 22nd ko i m', '11/11/20, 11:26 am - Baruni: haye raammmmmmm', '11/11/20, 11:26 am - Baruni: 22nd is Sunday', '11/11/20, 11:27 am - Vandy: So we have next week', 'Hum is week kyun pagal ho rahe hai then?', '11/11/20, 11:27 am - Baruni: mjhe ni yaad kyu pagl ho rahe mere colg ke karan hi ho rahe hnge', '11/11/20, 11:27 am - Baruni: kutta colg', '11/11/20, 11:27 am - Baruni: ye dekh be 12 subjects hai 2 mnths', '11/11/20, 11:28 am - Vandy: Can we meet on 21 for lunch?', 'Saturday hai', '11/11/20, 11:31 am - Baruni: classes hai sb din post 5 i can meet', '11/11/20, 11:31 am - Vandy: Friday - 20th dinner?', '11/11/20, 11:32 am - Baruni: done', '11/11/20, 11:34 am - Vandy: Nikhil adi u also tell', '11/11/20, 11:35 am - N O: Ok hai I guess', '11/11/20, 11:36 am - Vandy: Ok for now kal ka plan is cancel', '11/11/20, 11:36 am - Vandy: Next week milenge', '11/11/20, 11:36 am - Vandy: Adi bhi tab tk confirm kar degi', '11/11/20, 11:46 am - Aditi: Khana vagera rehne do. Pls. Will just sit and meet somewhere.', '11/11/20, 11:47 am - Vandy: We can meet in someone’s house', '11/11/20, 11:47 am - Vandy: Khana order kar lenge', '11/11/20, 11:57 am - Vandy: Whatsay?', '11/11/20, 11:58 am - N O: Vandy ke ghar ?', '11/11/20, 11:59 am - Baruni: Bahar bhau ghr kyu time jtada lag jayega', '11/11/20, 11:59 am - Baruni: Agle din classes hai 5', '11/11/20, 12:00 pm - N O: Saturday ko ?', '11/11/20, 12:00 pm - Baruni: Kitti bar puchega sun bhi hai meri classe sbhai', '11/11/20, 12:01 pm - N O: Vandy ke ghar ruk jaiyo and uske ghar se clads', '11/11/20, 12:01 pm - Baruni: yaar meri packing its 1 day before my flight', '11/11/20, 12:02 pm - Vandy: Ek sec', '11/11/20, 12:02 pm - Vandy: We are meeting on friday for dinner', '11/11/20, 12:02 pm - N O: ??', '11/11/20, 12:03 pm - Vandy: Dinner me ghar bhi kar sakte hai', 'Baru tere ghar bhi kar sakte hai', 'Bahar k liye adi is not comfortable so that is why i am saying home', '11/11/20, 12:03 pm - Aditi: Yr i think Baruni ko priority de do sab. Because she has a tight schedule.', '11/11/20, 12:03 pm - Vandy: Hn to di hai', '11/11/20, 12:03 pm - Aditi: I will come outside', '11/11/20, 12:03 pm - Aditi: No worries', '11/11/20, 12:04 pm - N O: Baruni ke nakhre khatam nahi hote', '11/11/20, 12:05 pm - Vandy: Yaar bahut keech rahe hai discussion hum', '11/11/20, 12:06 pm - Aditi: Exactly.', '11/11/20, 12:06 pm - Vandy: @919910768656  seedha seedha ek baar me confirm kar ', 'Friday 20th ko dinner pe milna hai', 'Tu jagah bta we will come there', '11/11/20, 12:06 pm - Vandy: It can be someone’s home or restaurant as well', '11/11/20, 12:22 pm - Baruni: han ajao mere ghr', '11/11/20, 12:22 pm - Baruni: saale mere nakhre ni colg ke ni khtm ho rahe jala dena hai maine ye sb', '11/11/20, 12:32 pm - Vandy: Jala de', '11/11/20, 12:32 pm - Vandy: Ok', '13/11/20, 8:09 pm - Vandy: <Media omitted>', '13/11/20, 8:10 pm - Aditi: Yayy. Happy choti Diwali\\U0001f9e1', '13/11/20, 8:11 pm - N O: Happy choti diwali !!', '13/11/20, 8:25 pm - Baruni: happy diwali 😊\\U0001f973\\U0001f973', '14/11/20, 12:47 am - N O: Happy diwali everyone', '14/11/20, 12:55 am - Aditi: Happy Diwali ✨✨', '14/11/20, 1:09 am - Baruni: Happy Diwaliiiii😍\\U0001f973', '14/11/20, 9:26 am - Vandy: Wishing all a prosperous Diwali \\U0001fa94', '14/11/20, 9:41 am - Kartik M: happy Diwali sabko🤗🤗', '14/11/20, 10:27 am - Harshit M: Happy Diwali everyone✨', '14/11/20, 10:27 am - Baruni: Ye zinda haiiiii', '14/11/20, 10:56 am - Vandy: Broadcast list me honge hum', '14/11/20, 10:56 am - Vandy: 😑', '14/11/20, 10:58 am - Baruni: oh han wo bhi hai', '14/11/20, 11:12 am - Harshit M: Aisa kuch nhi hai', '14/11/20, 11:13 am - Baruni: chl jhuta', '18/11/20, 9:29 am - Baruni: any plan of meeting?', '18/11/20, 11:05 am - N O: Mai shyd na aa pau', '18/11/20, 11:07 am - Baruni: han baba i understand tu tabiyat sahi rakh bs', '18/11/20, 11:08 am - N O: Meri tabiyat to wase sahi ho gayi ha but mjhe still symtom ha halke fulke. Spread ho jayga', '18/11/20, 11:10 am - Baruni: hanji hanji', '18/11/20, 10:38 pm - Vandy: <Media omitted>', '18/11/20, 10:40 pm - N O: Baruni Nikita do ak jase ladyi krne wale', '18/11/20, 10:41 pm - Vandy: Kitna ladte the yaar ye dono', '18/11/20, 10:41 pm - N O: Vandy n mere jase shreef log phas gye cross fire mai', '18/11/20, 10:42 pm - Vandy: Sahi main', '18/11/20, 10:43 pm - Kartik M: mai bhi shareef', '18/11/20, 10:45 pm - Vandy: Tu adi & harshit spectators', 'Audience bhi to honi chahiye show dekhne k liye', '18/11/20, 10:46 pm - Aditi: Mujhe to pata bhi nahi hota tha kab kya ho gaya.', '18/11/20, 10:48 pm - N O: Aur mjhe dono taraf se bas gali padti thi🤣', '18/11/20, 10:48 pm - Baruni: lol', '18/11/20, 10:48 pm - Vandy: 🤣', '18/11/20, 10:48 pm - Baruni: vandy smjh ata hai...tu kaunse angle se shareef hai be', '18/11/20, 10:49 pm - Baruni: layak bhi usi ke liye tha', '18/11/20, 10:50 pm - N O: Mai bhi shareef hi tha . bematlab involve kara jata tha bilateral mamlo mai.', '18/11/20, 11:02 pm - Baruni: sharafat se koso door hai tu', '18/11/20, 11:25 pm - Kartik M: bilateral mamle🤣', '20/11/20, 4:04 pm - N O: AWS ka account ha kisike pass free tier jo wo use na kar rha ho?', '20/11/20, 4:10 pm - Baruni: Tha pahle yaar', '20/11/20, 4:43 pm - Vandy: Just for my knowledge ', 'What is AWS?', '20/11/20, 4:44 pm - Baruni: Amazon web services', '20/11/20, 4:44 pm - Baruni: A cloud platform by amazon', '20/11/20, 4:47 pm - Vandy: Oh', '20/11/20, 9:32 pm - Vandy: <Media omitted>', '20/11/20, 9:33 pm - Vandy: <Media omitted>', '20/11/20, 10:58 pm - Kartik M: haila😛', '20/11/20, 10:58 pm - Kartik M: kya chal rha h ye😛', '20/11/20, 10:59 pm - Baruni: U misd it', '20/11/20, 10:59 pm - Baruni: ❤️', '20/11/20, 11:00 pm - Kartik M: ye initiate kisne kiya😛😛', '20/11/20, 11:00 pm - Baruni: Mom😨😨hence my next story', '20/11/20, 11:01 pm - Kartik M: reaction to expected hai lekin itne koode me kse bethi h be😛', '20/11/20, 11:01 pm - Baruni: Packing🙈', '20/11/20, 11:02 pm - Baruni: Ye fir bhi vandy ne kum kra hai isse jyada tha', '20/11/20, 11:02 pm - Kartik M: haan sahi me dikh rha h poora sansar😛', '20/11/20, 11:02 pm - Kartik M: munshi ji🤓🤓', '20/11/20, 11:02 pm - Vandy: Is ladki ke liye sab kuch banna padta hai', '20/11/20, 11:03 pm - Baruni: Aww😘😘', '20/11/20, 11:06 pm - Kartik M: par vandy ko dekhke laga haan ki aaj to daaru kholni padegi😛😛', '20/11/20, 11:07 pm - Kartik M: @918527135635 teri weekend parties ki photo dikhati rhti hgi ye aunty ko😛😛', '20/11/20, 11:09 pm - Baruni: Nopee', '20/11/20, 11:12 pm - Vandy: 😂😂😂', '20/11/20, 11:13 pm - Vandy: I think aunty thinks i am drunkard!', '20/11/20, 11:17 pm - Baruni: lol no but am impressed man mom ke samne ye msst', '22/11/20, 10:23 am - Vandy: @919910768656 kitne bje ki flight hai?', '22/11/20, 10:25 am - Baruni: Just landed', '22/11/20, 10:25 am - Vandy: Oh main safe journey wish karne vali thi😅', '22/11/20, 10:26 am - Vandy: Anyways', 'Stay safe', 'Have fun ', 'Stress kam lena', '22/11/20, 10:28 am - Baruni: Aww koi na', '22/11/20, 10:28 am - Baruni: Hnji😘', '22/11/20, 10:31 am - Vandy: <Media omitted>', '22/11/20, 10:40 am - Baruni: 🤣🤣', '22/11/20, 10:57 am - Aditi: All the best Baru❤️❤️❤️❤️', '22/11/20, 10:57 am - Baruni: Thank u😘', '22/11/20, 11:21 am - Vandy: <Media omitted>', '22/11/20, 11:29 am - Vandy: <Media omitted>', '22/11/20, 11:35 am - Baruni: \\U0001f97aabse no fancy food piks for 14 day minimum', '22/11/20, 11:35 am - Baruni: <Media omitted>', '22/11/20, 11:36 am - Aditi: Nice vandy', '22/11/20, 11:36 am - Vandy: Ek bina mask ke bhi le le', '22/11/20, 11:36 am - Vandy: For future', '22/11/20, 11:37 am - Baruni: Oops', '22/11/20, 11:37 am - Baruni: 14 days baad ab bt yes pkka', '22/11/20, 11:42 am - Kartik M: arey sahi, abhi quarantine me rhegi kya precautionary?', '22/11/20, 11:54 am - Baruni: 14 day qurantine', '22/11/20, 5:52 pm - Kartik M: sahi.. all the best👻👻', '22/11/20, 9:24 pm - Baruni: 🤗', '29/11/20, 12:54 pm - N O: Confrence call aj ?', '29/11/20, 12:54 pm - Baruni: kl mid term hai 2', '29/11/20, 12:54 pm - Baruni: tuesday sham pl', '29/11/20, 12:55 pm - N O: Loser college ha tumhara. Kal Gurunanak bdy ha.', '29/11/20, 1:14 pm - Baruni: bhai main jbse ayi hun tbse 5 quizes hogye hai mere', '29/11/20, 1:14 pm - Baruni: kl 2 half yearly hai and parso 1 aur quiz', '29/11/20, 1:25 pm - N O: Chutiya bana rahe ha tumhara. Itne quiz hone ka matlab ha ki quiz has no weightage.', '29/11/20, 1:45 pm - Baruni: 12 subject hai bro', '29/11/20, 1:49 pm - N O: Lol🤣🤣', '29/11/20, 1:49 pm - N O: Wtf', '29/11/20, 1:49 pm - N O: Ak hi sem mai 2 saal ka syllabus', '29/11/20, 1:51 pm - Vandy: Ek hi trimester!', '29/11/20, 1:52 pm - Vandy: 12 subject to mere poore ek saal me the', '29/11/20, 1:56 pm - Baruni: \\U0001f97a😭😭main IAS kr rahi hun🤣', '29/11/20, 2:02 pm - N O: 12 subject mere total 2 saal ke course mai nahi ha', '29/11/20, 2:19 pm - Baruni: 😭😭', '29/11/20, 2:32 pm - Vandy: 😂', '30/11/20, 10:40 pm - N O: <Media omitted>', '30/11/20, 11:00 pm - Vandy: 😂😂', '30/11/20, 11:01 pm - Vandy: This is amazing', '30/11/20, 11:02 pm - Vandy: This should go on Twitter', '30/11/20, 11:02 pm - Vandy: Anonymously!', '30/11/20, 11:02 pm - N O: Yes anonymously🤣', '30/11/20, 11:22 pm - Vandy: Mujhe 12th chemistry final practical yaad aa gaya', 'Teri chits se main pass hui thi😝', '30/11/20, 11:27 pm - N O: Mjhe yaad ha 11th ya maybe 12th ak half yearly practicle that jab mera salt nahi aaya tha. Tabse maine vachan liya tha ki aj ke baad maine bina farre kisi practical mai nahi jaunga.', '30/11/20, 11:28 pm - N O: Uske baad school and Pure 4 saal btech koi bhi practical asa nahi gaya jaha mai bina farree gaya hu. 1 ya 2 baar se zyada use nahi karna pada but hamesha leke gya🤣', '01/12/20, 12:24 am - Baruni: bhai gajab', '01/12/20, 9:36 am - Vandy: 😂', '01/12/20, 1:41 pm - N O: Karni ha aj?', '01/12/20, 2:36 pm - Baruni: 7 bje hai paper', '01/12/20, 2:36 pm - Baruni: 8 bje kre?', '01/12/20, 9:24 pm - Vandy: Sorry yaar ', 'Aaj bahut headache hai', 'Msg dekh k bs ignore kar diya', '01/12/20, 9:25 pm - Vandy: Himmat ni hui', '01/12/20, 9:26 pm - Baruni: Abhi krre?', '01/12/20, 9:51 pm - Vandy: Tum karlo', 'Main ni', '01/12/20, 9:52 pm - Baruni: Koi na kl krlenge', '03/12/20, 2:10 pm - N O: @918874822014 @919910768656 new year ke pass aa rahe ho kya delhi ?', '03/12/20, 2:11 pm - Baruni: 29th-2jan end term hai mere🤣', '03/12/20, 2:11 pm - Baruni: U gotta b kidding me', '03/12/20, 2:14 pm - N O: Lol tumhare college ka system is stupid.', '03/12/20, 2:15 pm - N O: New year ke bech mai kon exams rakhta ha. Either end before or start after.', '03/12/20, 2:23 pm - Baruni: IIM Indore', '05/12/20, 12:13 pm - Vandy: Saturday subah kaun call karta hai!!!!', '05/12/20, 12:14 pm - Baruni: jo free tb hot hai', '06/12/20, 8:13 am - Baruni: kya mast hai..dekho', '', 'https://youtu.be/V3Zg1U0teT8', '06/12/20, 10:22 am - Vandy: Epic', 'Vaise main hamesha hi sochti thi ki bollywood ka logic kitna wrong hai', '06/12/20, 11:01 am - Baruni: Guys today call room sjaker wil send', '06/12/20, 11:16 am - Baruni: <Media omitted>', '06/12/20, 11:16 am - Baruni: <Media omitted>', '06/12/20, 11:19 am - Vandy: Did you paint that on the wall?', '06/12/20, 11:19 am - Vandy: Cool', '06/12/20, 11:24 am - Baruni: No no', '06/12/20, 11:24 am - Baruni: Already tha abhi shift kr rahi', '06/12/20, 11:33 am - Vandy: https://youtu.be/SM50jJzyYgs', '06/12/20, 11:34 am - Vandy: How many can you recognise??', '06/12/20, 11:34 am - Vandy: 😂', '06/12/20, 11:34 am - Vandy: Cool', '06/12/20, 11:34 am - Vandy: Artist ka room artist ko mil gaya', '06/12/20, 11:54 am - Aditi: Bc ye paper bhi na ho mujhse😂', '06/12/20, 11:54 am - Vandy: Bc!!!', 'Adi used BC', '06/12/20, 11:55 am - Vandy: 😵😵😵', '06/12/20, 11:57 am - Aditi: Are yr mere friend ne aadat dilva di🤦\\u200d♀️', \"06/12/20, 11:58 am - Aditi: Still can't use it vocally tho 😂\", '06/12/20, 11:58 am - Vandy: 😂😂', '06/12/20, 11:59 am - Vandy: Even i cant this one though', 'and i am totally against this abuse', 'Like why are abuses women centric ?', '06/12/20, 12:00 pm - Baruni: Lol be ek wall pr bhut darawni aurat hai use poster s edhakungi', '06/12/20, 12:00 pm - Vandy: ‘Har ek friend zaruri hota hai’ fits so well here', '06/12/20, 12:01 pm - Aditi: Same. But the thing is there is no other word to depict the same emotion.', '06/12/20, 12:01 pm - Aditi: There should be tho.', '06/12/20, 12:02 pm - Aditi: Apni itni saari paintings h, frame karde sabko', '06/12/20, 12:04 pm - N O: True wase unfair hai tumhare liye. Meri ak college friend bohot bolti thi BC and jab bhi bolti mjhe I used to say tu meri behen jasi ha🤣', '06/12/20, 12:04 pm - Aditi: 😂😂', '06/12/20, 12:04 pm - Vandy: 🤣🤣', '06/12/20, 12:05 pm - Vandy: Waise i am used to saying chu**** and fu**', 'Ek do baar to mummy papa ke saamne nikal jata hai', '06/12/20, 12:06 pm - Aditi: Damn..not that.', '06/12/20, 12:17 pm - Baruni: Wooww jo hum na kr paye', '06/12/20, 12:17 pm - N O: Milna ha is friend se mjhe', '06/12/20, 12:31 pm - Baruni: Bhai ye nxt level hai bt mom ne ek bheji hai dekho', '06/12/20, 1:13 pm - Vandy: @919910768656 mom & i are watching movie Heera Panna', 'Does it ring a bell??', '06/12/20, 1:13 pm - Baruni: Hehe', '06/12/20, 1:13 pm - Baruni: Panna ki tamanna?', '06/12/20, 1:13 pm - Vandy: Yup', '06/12/20, 1:14 pm - Vandy: Still can’t believe you did that!', '06/12/20, 1:54 pm - Baruni: 🙈🙈🤣', '06/12/20, 1:54 pm - Baruni: Still some things i dnt believe i do daily', '07/12/20, 9:08 am - Baruni: <Media omitted>', '07/12/20, 7:54 pm - Vandy: Tera room ho gaya decorate?', '07/12/20, 8:36 pm - Baruni: Ni yaar aj carpenter kk bulaya frame lga lia bt baki kuch ni aya abhi tk ghr se', '07/12/20, 8:36 pm - Baruni: Pta ni kha mar rakha hai courier', '07/12/20, 8:36 pm - Baruni: Bt 10 bje tk krti tum sbko call', '08/12/20, 8:25 pm - N O: Probability kisko aati ha ?', '08/12/20, 8:57 pm - Baruni: Nhi', '08/12/20, 11:51 pm - Vandy: Ati thi!', '09/12/20, 10:14 am - N O: @919910768656 tera college ka system is great. I take everything back I ever said.', '09/12/20, 10:14 am - Baruni: lol kya kia tere colg walo nne ab', '09/12/20, 10:16 am - N O: Maths ka techer last class bolke gya aj C2 exam hoga 9-11 am wale slot mai. 30% final weightage.', '09/12/20, 10:17 am - Baruni: gajab', '09/12/20, 10:17 am - N O: Subhe se anticipation mai bathe hue hai ki abhi start hoga and techer gayab , bhul gya aj paper hai, disappeared from face of the earth', '09/12/20, 10:17 am - N O: Koi mail ka reply nahi kuch nahi koi communication nahi🤣', '09/12/20, 10:18 am - Baruni: wahh', '10/12/20, 11:06 am - Aditi: https://www.wionews.com/world/four-trial-volunteers-who-got-pfizers-covid-19-vaccine-developed-bells-palsy-348547', '10/12/20, 2:39 pm - Vandy: 🤦🏻\\u200d♀️', '12/12/20, 1:21 pm - Vandy: <Media omitted>', '12/12/20, 1:25 pm - Baruni: omggggg this is so so good', '12/12/20, 1:25 pm - Baruni: main hi senti hogai', '12/12/20, 1:29 pm - Aditi: Damnnnn', '12/12/20, 1:29 pm - Aditi: Dude', '12/12/20, 1:29 pm - Aditi: This is awesome ❤️❤️❤️❤️❤️', '12/12/20, 1:29 pm - Aditi: Thank you so much ❤️', '12/12/20, 1:29 pm - Aditi: Wow seriously amazing. \\U0001f9e1\\U0001f9e1', '12/12/20, 1:30 pm - Aditi: Kaise banaya', '12/12/20, 1:30 pm - Vandy: 😘😘😘', '12/12/20, 1:30 pm - Vandy: Phone me pics ko club kiya ', 'Background music diya ', 'Movie ban gayi 🙂', '12/12/20, 1:31 pm - Vandy: Ab tere liye itni mehnat to karenge hi😘', '12/12/20, 1:40 pm - Aditi: Damnnn', '12/12/20, 1:41 pm - Aditi: Awesome man.❤️❤️ ', '', 'Thank you', '17/12/20, 4:07 pm - N O: <Media omitted>', '17/12/20, 4:10 pm - Baruni: lol', '17/12/20, 11:48 pm - N O: Earthquake feel hua kya kisiko ?', '17/12/20, 11:49 pm - Aditi: Haaan', '17/12/20, 11:49 pm - Aditi: Shit man scarrru', '20/12/20, 11:40 am - Kartik M: oye call pe ho abhi to add krna😛', '20/12/20, 11:42 am - N O: Bhai kamine log hai. Akele apne \"girls group\" pe decide karte ha and karlete hai. Koi consideration nahi for others.', '20/12/20, 11:42 am - Kartik M: achhaaaaaa😛😛', '20/12/20, 11:43 am - Kartik M: hume to kabhi guys group ki zarurat ni padi, galat hai ye😛😛', '20/12/20, 11:48 am - Vandy: That credit goes to us girls', 'Tum logo ki harkaten aisi hai ki we had to create a spl grp', '20/12/20, 11:52 am - Baruni: Han life mein kaam hi kha hai ab koi ye hi plan krte hao', '20/12/20, 11:52 am - Baruni: Han coz chu ho tum log', '20/12/20, 11:57 am - N O: Achaaa kyuki confrence call to hamesha spontaneously hoti hai..kabhi plan thodi kara ha group pe hamne ??', '20/12/20, 12:02 pm - Baruni: han plans r never fulfilled', '20/12/20, 12:02 pm - Baruni: jb yaad aayi krlo', '20/12/20, 12:15 pm - Kartik M: yr ek baat btao.. mere known to logo me har 3 din me kisi ke covid ka pata chal rha hai ab', '20/12/20, 12:15 pm - Kartik M: tumhare bhi aisa kuch aa rha hai kya sunne mein bhaut ab', '20/12/20, 12:19 pm - Baruni: Tu virus hai', '20/12/20, 12:20 pm - Kartik M: yr sahi mein ek team mate hai mera.. smoke krta hai.m usko covid hua to band baj gyi uski', '20/12/20, 12:20 pm - Kartik M: constant breathing difficulty full week', '20/12/20, 12:20 pm - N O: Yaha delhi mai ab to nhi sunne mai aa rha itna.', '20/12/20, 12:22 pm - Vandy: Mere family me pehle hue the cases', 'Relatives ke ', 'Bt havent heard of any off lately', '20/12/20, 12:28 pm - Aditi: Yeah. My cousin and her wife got Covid. Thankfully their kid was saved. But i guess the severity of the infection has decreased.', '20/12/20, 12:38 pm - Kartik M: achha, chalo that is good to hear', '20/12/20, 10:17 pm - Aditi: Fungal infection triggered by COVID-19 seen in cities all over India: All you need to know - https://www.firstpost.com/tech/science/fungal-infection-triggered-by-covid-19-seen-in-cities-all-over-india-all-you-need-to-know-9124011.html', '21/12/20, 6:55 pm - Aditi: https://www.youtube.com/watch?v=VkxbuoYrj8M&feature=youtu.be', '', 'Incase anyone interested.', '22/12/20, 7:19 pm - N O: Sunday chalna ha kahi', '22/12/20, 7:20 pm - N O: ?', '22/12/20, 7:35 pm - Baruni: Han indore', '22/12/20, 7:36 pm - N O: No one cares about indore.', '22/12/20, 7:40 pm - Baruni: U do\\U0001f97a', '22/12/20, 7:42 pm - Vandy: Aap late ho gaye', 'Already have plans', '22/12/20, 7:46 pm - Baruni: bade log', '23/12/20, 5:50 pm - N O: Sem over mera🍾🍾', '23/12/20, 5:50 pm - N O: 🕺🕺🕺🕺', '23/12/20, 6:00 pm - Baruni: Pass hogya?', '23/12/20, 6:02 pm - N O: Itni cheating ke baad pe pass nhi hua to bohot dukh hoga🤣', '23/12/20, 6:02 pm - Baruni: Lol', '24/12/20, 10:40 pm - Vandy: <Media omitted>', '24/12/20, 10:40 pm - Vandy: We baked Christmas cookies 🍪🎄', '24/12/20, 10:40 pm - Aditi: Bhejdoooo', '24/12/20, 10:40 pm - Aditi: ❤️❤️❤️❤️❤️', '24/12/20, 10:40 pm - N O: Aree awesome❤️', '24/12/20, 10:45 pm - Vandy: Bahut mehnat lagi ', 'Bt worth it', '24/12/20, 10:47 pm - Aditi: What is this syrup', '24/12/20, 10:48 pm - Baruni: \\U0001f97a❤️❤️', '24/12/20, 10:48 pm - Baruni: Mjhe bhii', '24/12/20, 10:55 pm - Vandy: Icing', '24/12/20, 10:57 pm - Vandy: <Media omitted>', '24/12/20, 10:58 pm - Vandy: I asked Harsh to get me a sweatshirt ', 'This is what he got me👆🏼🙈', '24/12/20, 10:59 pm - N O: Mast hai👌🏻', '24/12/20, 11:01 pm - Vandy: Chalta firta xmas tree is what he called me', '24/12/20, 11:04 pm - Baruni: <Media omitted>', '24/12/20, 11:05 pm - N O: Bc hmara college kyu nhi khul raha😭😭', '24/12/20, 11:05 pm - Baruni: <Media omitted>', '24/12/20, 11:13 pm - Baruni: <Media omitted>', '24/12/20, 11:38 pm - Vandy: Ye Christmas tree ki shape itni weird kyun hai!?', '25/12/20, 12:05 am - N O: Merry Christmas everyone🎉🎉', '25/12/20, 12:12 am - Baruni: Pta krti', '25/12/20, 10:30 am - Aditi: <Media omitted>', '25/12/20, 10:31 am - Aditi: Na tum isai na hum isai, to kahe ka Christmas mere bhai. 😂😂😂', '25/12/20, 10:31 am - Aditi: On a lighter note, Merry Christmas 🎄⛄🎄', '25/12/20, 10:33 am - Vandy: 🎄☃️ Merry Christmas all 🎄☃️', '25/12/20, 10:34 am - Baruni: Maine na qb krna hi ni hqi', '25/12/20, 10:35 am - Vandy: Har koi har waqt free ni hota na', '25/12/20, 10:35 am - Vandy: Time decide karlo', '25/12/20, 10:35 am - Baruni: 2 min ni kr skte tum log baat ya wish\\U0001f97a', '25/12/20, 10:35 am - Baruni: Hanji krlo bta dena main padta tbtk', '25/12/20, 10:55 am - Vandy: 1 bje?', '25/12/20, 10:58 am - Baruni: Hmm oo', '25/12/20, 10:58 am - Baruni: Ok', '25/12/20, 11:00 am - Vandy: Dusra time bta if this doesnt suit', '25/12/20, 11:04 am - Baruni: Ni ni sahi hai', '25/12/20, 11:09 am - N O: Sahi ha', '25/12/20, 1:11 pm - Baruni: Sr14-216', 'Indian institute of management, Indore', 'Prabandh Shikhar, Rau Prithampur Road', 'Madhya Pradesh, Indore - 453556', '25/12/20, 4:12 pm - Baruni: https://www.noticebard.com/niti-hunt-policy-drafting-competition-2020-by-think-india-nitie-mumbai/', '25/12/20, 4:12 pm - Baruni: anyone interested in policy drafting?', '25/12/20, 4:14 pm - N O: Wow Policy drafting. Sounds so fun', '25/12/20, 4:15 pm - Baruni: for u right', '25/12/20, 7:36 pm - N O: <Media omitted>', '25/12/20, 7:57 pm - Vandy: 😂😂😂😂😂😂😂', '26/12/20, 2:13 pm - Vandy: <Media omitted>', '26/12/20, 2:13 pm - Vandy: <Media omitted>', '26/12/20, 2:13 pm - Vandy: Frnds k sath airbnb hauz khas', '26/12/20, 2:13 pm - Baruni: ❤️❤️❤️', '26/12/20, 2:13 pm - Baruni: Amerii', '26/12/20, 2:14 pm - Baruni: <Media omitted>', '26/12/20, 2:14 pm - Vandy: From?', '26/12/20, 2:27 pm - Baruni: Simran naman', 'Tushar', 'Colg mein secret santa', '26/12/20, 2:40 pm - Aditi: Damn 😍', '26/12/20, 2:41 pm - Baruni: humne kaunsa bura kia tumhare sath :(', '26/12/20, 2:42 pm - N O: Hamare liye to always busy hi hoti ha', '26/12/20, 2:42 pm - Baruni: vandy ko bol raha main', '26/12/20, 2:44 pm - N O: I know. I was just adding teri baat mai', '26/12/20, 2:44 pm - Baruni: fir theek hi', '26/12/20, 2:44 pm - Baruni: han @918527135635 humare sath kyu ni jati be aise', '26/12/20, 2:58 pm - Vandy: Maine kab mana kiya', '26/12/20, 2:59 pm - Baruni: bnaya bhi to ni na plan', '26/12/20, 3:27 pm - Vandy: Kisi aur ne bhi to ni banaya', '26/12/20, 3:27 pm - Baruni: Tooooooo', '26/12/20, 9:03 pm - N O: Coolie number 1 ki story bhjo', '27/12/20, 9:09 am - N O: Wonder woman hd aa gayi ha torrent pe', '27/12/20, 9:57 am - Vandy: <Media omitted>', '27/12/20, 10:02 am - N O: 🤣🤣', '27/12/20, 10:02 am - N O: Kal we got drunk af and watched coolie no 1🤣', '27/12/20, 10:37 am - Vandy: 😂', '27/12/20, 10:37 am - Vandy: Typical', '27/12/20, 10:41 am - Aditi: We ?', '27/12/20, 10:46 am - Vandy: He and his friends', '27/12/20, 12:28 pm - Kartik M: peene ke baad achhi lagi ya fir bhi ni😛', '27/12/20, 12:30 pm - N O: Starting ki 10 min ke baad yaad hi nahi kuch🤣', \"27/12/20, 12:30 pm - N O: Don't think puri dekhi thi. Aadhe mai band kardi\", '30/12/20, 6:10 pm - N O: 31th ka kya plan ha ?', '30/12/20, 6:10 pm - Baruni: 2 paper in 1st', '30/12/20, 6:11 pm - N O: Tu chodh tera kuch nhi ho skta', '30/12/20, 6:11 pm - Vandy: Yaar tu na 2 saal k liye apna phone off karke side me rakh de', 'We will assume tu arctic gayi hai', '30/12/20, 6:12 pm - Vandy: Ghar pe plan hai', '30/12/20, 6:14 pm - Baruni: Hawww', '30/12/20, 6:14 pm - N O: Kbhi mere sath bhi plan bnale', '30/12/20, 6:22 pm - Vandy: Jan me milenge pakka', 'Ab ek saal baad harsh aya hai ', 'List khatam hi ni ho rahi uski', '31/12/20, 2:11 pm - N O: Meri is sem ki GPA 9.36🤣🤣kabhi itne number nahi dekhe', '31/12/20, 2:20 pm - Aditi: Congratulations \\U0001f973👏\\U0001f973👏👏', '31/12/20, 2:22 pm - Baruni: Yaha pass hone ke lale ho rakhe hai', '31/12/20, 2:22 pm - N O: Cheating ki kripa ha bas. 🙏🏻', '31/12/20, 4:01 pm - Vandy: Oh terii', 'Woowo dude congratulations', '31/12/20, 4:02 pm - Vandy: 2020 kisika to acha rha', '31/12/20, 5:33 pm - Aditi: <Media omitted>', '31/12/20, 5:33 pm - Vandy: Wohoooo', '31/12/20, 5:33 pm - Vandy: Car looks so cool', '31/12/20, 5:34 pm - Vandy: And pretty', '31/12/20, 5:34 pm - Vandy: Big day for aunty', '31/12/20, 5:34 pm - Vandy: Unhe hamari taraf se congratulations bolna', '31/12/20, 5:35 pm - Aditi: Yayy. Thank you ❤️❤️❤️', '31/12/20, 5:36 pm - Vandy: And the banner turned out to be so pretty ', 'Good job adi', '31/12/20, 5:36 pm - Aditi: Tumhari badualat', '31/12/20, 5:36 pm - Aditi: ❤️', '31/12/20, 5:37 pm - Vandy: No', 'Its all u', '31/12/20, 5:48 pm - Baruni: 😍😍', '31/12/20, 10:18 pm - Kartik M: arey sahii bhaii!!👻👻', '31/12/20, 10:22 pm - Kartik M: this is really sweet, all the best to aunty👻👻', '31/12/20, 11:01 pm - Aditi: Thank you', '01/01/21, 12:01 am - N O: Happpy new year !!', '01/01/21, 12:03 am - Baruni: Happy New year😍', '01/01/21, 12:05 am - Vandy: Happy new year guyss', '01/01/21, 7:19 am - Aditi: Happy New year 🎉', '01/01/21, 11:26 am - Kartik M: happiiee new year !!👻👻🤗🤗', '01/01/21, 11:50 am - Harshit M: Happy new year✨', '01/01/21, 11:29 pm - N O: https://youtu.be/zsdYLTQ74W4', '02/01/21, 12:07 am - Vandy: Funny bt gross too', '02/01/21, 12:11 am - N O: Ye banda funny laga mjhe bohot🤣 iski videos binge kr rha hu', '04/01/21, 11:39 am - Baruni: Guys', '04/01/21, 11:39 am - Baruni: Video call today?', '04/01/21, 11:39 am - Vandy: Raat ko?', '04/01/21, 11:40 am - Baruni: Time bta dooo plzz', '04/01/21, 11:42 am - Vandy: 10?', '04/01/21, 11:42 am - Vandy: 10.30?', '04/01/21, 11:48 am - Baruni: yo', '04/01/21, 11:48 am - Baruni: 10', '04/01/21, 11:59 am - Vandy: Cool works for me', '04/01/21, 11:59 am - Vandy: Baki sab bhi bta do', '04/01/21, 11:59 am - Baruni: yaya', '04/01/21, 11:59 am - Baruni: esp boys fir rote hue aynge', '04/01/21, 12:02 pm - Aditi: I am not sure. Kaam aa sakta h', '04/01/21, 12:02 pm - Baruni: ye aye bade log uff', '04/01/21, 12:04 pm - N O: 10 works', '04/01/21, 12:04 pm - Baruni: yo', '04/01/21, 2:33 pm - Baruni: Meeting agai 10:30-11 krte', '04/01/21, 2:34 pm - Vandy: Cool', '04/01/21, 9:28 pm - Baruni: Guys kl kre? Aj kuch kaam agya', '04/01/21, 9:32 pm - N O: Ok', '04/01/21, 10:17 pm - Vandy: Ok', '05/01/21, 12:49 pm - Vandy: Call today at 10.30?', '05/01/21, 12:49 pm - Baruni: Abhi krlo i m missing uuuuu', '05/01/21, 12:50 pm - Vandy: Padh lo', '05/01/21, 12:51 pm - Vandy: Fir raat ko karenge araam se', 'Raat ko mat bolna padhna hai abhi', '05/01/21, 12:51 pm - Baruni: Mera term break chl raha🙈', '05/01/21, 12:51 pm - Baruni: Bs aj do submissions hai', '05/01/21, 12:51 pm - Baruni: I m freeee', '05/01/21, 12:52 pm - Vandy: Ye word bahut time baad tere muh se suna', '05/01/21, 12:52 pm - Baruni: 🙈🙈🙈🙈', '05/01/21, 12:52 pm - Baruni: 9 se new term🙈', '05/01/21, 12:52 pm - Baruni: Ajaoo yaha tum dono', '05/01/21, 12:52 pm - Vandy: Tumhara break hai', 'Tum ao', '05/01/21, 12:53 pm - Vandy: 🤷🏻\\u200d♀️', '05/01/21, 12:54 pm - Baruni: \\U0001f97aaker qurantine hona padega', '05/01/21, 2:26 pm - Vandy: Ni ni', '07/01/21, 9:42 am - Vandy: Main so gaya tha🙈', '07/01/21, 9:53 am - Baruni: \\U0001f97a', '09/01/21, 1:31 pm - Vandy: This message was deleted', '09/01/21, 1:41 pm - Aditi: This message was deleted', '09/01/21, 8:56 pm - Aditi: <Media omitted>', '09/01/21, 8:57 pm - Aditi: Who said diet food cant be fun 😬', '09/01/21, 9:19 pm - Baruni: 🙈brocalli❤️', '09/01/21, 11:22 pm - Vandy: Wah', 'Looks so colourful', '09/01/21, 11:26 pm - Aditi: 😬😬', '10/01/21, 8:42 pm - N O: @918527135635  @919953455339  @919650297140 plan banao koi milne ka', '10/01/21, 8:46 pm - Aditi: Next weekend.', '11/01/21, 8:58 am - Vandy: Cool', '12/01/21, 12:37 am - Vandy: @918874822014 battery died??', '12/01/21, 7:18 am - Kartik M: yep😛', '12/01/21, 7:19 am - Kartik M: <Media omitted>', '12/01/21, 8:30 am - Baruni: 🤗🤗', '12/01/21, 9:57 am - Vandy: It seems only kartik is listening to Baruni’s rants', '12/01/21, 10:13 am - Baruni: Hehe', '12/01/21, 10:38 am - Baruni: <Media omitted>', '12/01/21, 10:53 am - Vandy: Reminds me of a temple ', 'Usually hill stations me jo temples hote hai unse aise he vibes ati hai', '12/01/21, 10:53 am - Baruni: jai mata di bolungi abse', '12/01/21, 10:53 am - Vandy: 😄', '12/01/21, 11:04 am - Aditi: Haan. Mujhe vaishno devi ki yaad aagyai 😂', '13/01/21, 9:46 pm - N O: <Media omitted>', '13/01/21, 10:19 pm - Vandy: Is this a joke or Does it mean what i think it does?', '13/01/21, 10:20 pm - N O: what do you think it means ?', '13/01/21, 11:03 pm - Baruni: Lol wat', '14/01/21, 10:07 pm - Baruni: <Media omitted>', '15/01/21, 9:17 am - Vandy: Finally', '15/01/21, 9:19 am - Baruni: Yaya', '15/01/21, 9:21 am - Kartik M: arey sahi, half percentage jsa kuch follow kr rhe ho kya', '15/01/21, 10:06 am - Baruni: Wo officially next mnth se hoga is elective mein to 40 batch hi rakha hai to easy to attend hai', '15/01/21, 10:12 am - Baruni: Each of you is expected to get *at least 3 responses*.', '• In the name field, request the person filling the form to mention your name (Utsaha team member who is sending the form), not the person who is filling it. ', '• In the Email ID field, the person who is filling the form can mention their ID. Please ensure this is done to keep track of progress.', '', 'https://forms.gle/59UT8Ung6puByL3s8 ', '', '', 'Deadline: *Tomorrow EOD*', '15/01/21, 10:12 am - Baruni: Ye bhardo plz', '15/01/21, 10:49 am - Vandy: Name tera mention karna hai?', '15/01/21, 10:50 am - Baruni: Hanji in name field', '15/01/21, 10:51 am - Baruni: Email id tumhara', '15/01/21, 10:58 am - Vandy: Done', '15/01/21, 11:06 am - Baruni: thank u', '15/01/21, 3:27 pm - Baruni: baki bhi bhardo plz', '15/01/21, 3:28 pm - Aditi: Kitna bada h', '15/01/21, 3:29 pm - Baruni: bhagwan jane', '15/01/21, 3:29 pm - Aditi: Agar bada h to raat ko bhar dub ?', '15/01/21, 3:29 pm - Baruni: aj 7 bje tk bharna hai', '15/01/21, 3:29 pm - Baruni: waise parso tk bahrna tha nd i missed :P', '15/01/21, 3:29 pm - Aditi: Abe. Tumne eod bola', '15/01/21, 3:29 pm - Baruni: wo parso ka msg tha hehe', '15/01/21, 3:29 pm - Baruni: maine aj dekha', '15/01/21, 3:29 pm - Aditi: Hehe?', '15/01/21, 3:29 pm - Aditi: 🙄', '15/01/21, 3:30 pm - Baruni: han na bakwas kama hai coz bt aj escalate krdia inhone', '15/01/21, 3:56 pm - Vandy: Will take 5-7 mins', '15/01/21, 8:38 pm - Aditi: https://www.instagram.com/p/CJ5-eNNpXxD/?igshid=cqgkgvvfar3i', '15/01/21, 8:38 pm - Aditi: Ye dance @919013166066 @918874822014 @919650297140  ki shaadi pe hum karenge 😂😂😂', '15/01/21, 8:40 pm - N O: I am in. @918874822014 ki shadi ane hi wali hai', '15/01/21, 8:41 pm - Baruni: lol', '15/01/21, 8:55 pm - Vandy: 😂😅', '16/01/21, 11:56 am - Aditi: <Media omitted>', '16/01/21, 11:58 am - Vandy: O teri', '16/01/21, 11:58 am - Vandy: 🤣🤣🤣🤣', '16/01/21, 11:59 am - Vandy: Who let the ‘sheeps’ out', 'Who who who😅😅😅', '16/01/21, 12:09 pm - Baruni: Wat d f😂', '16/01/21, 12:09 pm - Baruni: 😂', '16/01/21, 12:13 pm - Aditi: 😂😂😂😂', '17/01/21, 3:45 pm - Vandy: Hey', '17/01/21, 3:46 pm - Vandy: I saw a movie yesterday on Netflix ', 'Is love enough? Sir', '17/01/21, 3:46 pm - Vandy: Highly recommend u all to watch it', '17/01/21, 3:47 pm - Vandy: It is beautiful ', 'Hindi movie hai- new cast', 'But acting story and the way they have portrayed emotions is amazing', '17/01/21, 3:47 pm - Vandy: Simple si movie hai bt touches your heart', '17/01/21, 4:06 pm - Aditi: Cool. Will watch thanks🤗', '17/01/21, 4:08 pm - N O: Aree nice. Netflix Id bhi de de apni...', '17/01/21, 4:11 pm - Baruni: 😂', '17/01/21, 6:03 pm - Vandy: Maine khud manga hua hai', '17/01/21, 7:45 pm - Aditi: <Media omitted>', '17/01/21, 7:46 pm - Aditi: Matlab itti khushi kabhi nahi hui. Jitni ye bana ke😭', '17/01/21, 9:14 pm - N O: Awesome😍', '17/01/21, 9:43 pm - Aditi: 🙈', '17/01/21, 9:44 pm - Baruni: Bhejooo yaha', '17/01/21, 9:45 pm - Aditi: <Media omitted>', '17/01/21, 9:46 pm - Kartik M: arey waah yr kya baat😛😛', '17/01/21, 10:07 pm - Vandy: Wow', 'Adii bs kar yaar', 'Complex feel hone laga hai', '17/01/21, 10:09 pm - Aditi: Are chill.', '17/01/21, 10:09 pm - Baruni: 😂', '17/01/21, 10:10 pm - Baruni: Ye ni hota saala njhe kbhi', \"19/01/21, 1:25 pm - N O: Match dekha kisine...OMFG. can't believe what I just watched\", '19/01/21, 1:27 pm - Baruni: I did nt\\U0001f97a', '19/01/21, 1:27 pm - Baruni: Kha dekhu highlights?', '19/01/21, 1:27 pm - Vandy: Aisa kya hua?', \"19/01/21, 1:31 pm - N O: 5th day pitch, 320 to win vs Australia in Australia on a ground jaha Australia haven't lost since 1970\", '19/01/21, 1:32 pm - N O: And we did fucking did it with a B team, half squad injured', '19/01/21, 1:37 pm - Aditi: Damn 🙈', '19/01/21, 1:41 pm - Baruni: ❤️❤️😍', '19/01/21, 1:44 pm - Vandy: Woah', '21/01/21, 1:42 pm - N O: <Media omitted>', '21/01/21, 1:53 pm - Vandy: 😂😂😂😅', '21/01/21, 1:53 pm - Vandy: So true', '21/01/21, 1:55 pm - Aditi: 😂🙈', '22/01/21, 10:06 pm - Vandy: Hey aditi', 'We have made a donation of rs 1000 to peepal farm on your behalf', 'Tera gift long pending tha', 'Its from all of us 😊', '22/01/21, 10:08 pm - N O: Wow aditi...that such a nice thing', '22/01/21, 10:08 pm - Baruni: Itti English how high r u', '22/01/21, 10:09 pm - N O: I am high on life', '22/01/21, 10:25 pm - Vandy: High on life or just high\\U0001f9d0', '22/01/21, 11:02 pm - Aditi: Omgggg', '22/01/21, 11:02 pm - Aditi: Sabke naamse bolatha na', \"22/01/21, 11:03 pm - Aditi: I didn't want credit. Sabka karte na\", '22/01/21, 11:03 pm - Aditi: Thank you so much guys❤️', '22/01/21, 11:03 pm - Vandy: Name kiska hai ye ni imp', 'Contributions and feelings to sabki hai', '22/01/21, 11:03 pm - Aditi: Yes\\U0001f9e1💜', '22/01/21, 11:03 pm - Vandy: ❣️', '22/01/21, 11:10 pm - Baruni: Pkka bhand hai ye', \"22/01/21, 11:12 pm - N O: Please don't be jealous of my awesomeness\", '22/01/21, 11:23 pm - Baruni: Hatt', '22/01/21, 11:23 pm - Baruni: Abhi apni dikhati hun tjhe', '22/01/21, 11:29 pm - N O: Baruni dikhaa na phir 😘', '22/01/21, 11:30 pm - Baruni: <Media omitted>', '22/01/21, 11:34 pm - N O: Hawwt🔥', '26/01/21, 2:51 pm - N O: Tear gas chal rahi hai mere ghar ke pass !', '26/01/21, 2:57 pm - Aditi: Oh god', '26/01/21, 3:04 pm - Baruni: Tere liye?', '26/01/21, 3:18 pm - Aditi: <Media omitted>', '26/01/21, 3:19 pm - Aditi: My jio isnt', '26/01/21, 3:21 pm - Aditi: Tumhara chal raha h jio ?', '26/01/21, 3:36 pm - Baruni: Bt y kya ho raha hai waha?', '26/01/21, 3:36 pm - Aditi: News dekho', '26/01/21, 3:48 pm - N O: Airtel and wifi to chal raha hai.', '26/01/21, 3:51 pm - Aditi: Wifi kiska h ? Main jiofi hi use karti hun', '26/01/21, 3:51 pm - N O: Wifi local hai but wo backbone airtel ki use karta hai.', '26/01/21, 3:52 pm - Vandy: Wifi is working', '26/01/21, 3:52 pm - Aditi: Accha', '26/01/21, 3:52 pm - Vandy: Farmers protest in delhi', 'Sab tractors le ke ghus gaye', '26/01/21, 3:52 pm - Aditi: Fir mera issue h shayad.', '26/01/21, 3:52 pm - Vandy: Stay in dude', 'How is the situation now?', '26/01/21, 3:53 pm - Kartik M: jio me hai issue', '26/01/21, 3:54 pm - Kartik M: baki logo se bhi suna mne in other grps', '26/01/21, 3:54 pm - Vandy: No wonder', '26/01/21, 3:55 pm - N O: Ghar pe hi hu.. mera ghar just near to NH- 9 hai so hangama and tear gas chalne ki awaze aa rahi ha', '26/01/21, 3:56 pm - Vandy: Yeah', 'News me dikhaya', '26/01/21, 3:56 pm - Vandy: Now they are returning to border', '26/01/21, 3:56 pm - Aditi: Thank god', '26/01/21, 8:12 pm - N O: Mobile data chal gya ha ?', '26/01/21, 8:22 pm - Aditi: Nahi. Jio fiber chal raha h', '27/01/21, 9:31 am - Aditi: Yayy. Internet chal pada', '27/01/21, 9:32 am - Aditi: <Media omitted>', '27/01/21, 9:36 am - Vandy: 😄😄']\n"
          ],
          "name": "stdout"
        }
      ]
    },
    {
      "cell_type": "code",
      "metadata": {
        "colab": {
          "base_uri": "https://localhost:8080/"
        },
        "id": "ff9UeuxsmYRl",
        "outputId": "87e1d0ba-abaf-4500-a270-d734a192222d"
      },
      "source": [
        "msgs = []\n",
        "pos =0\n",
        "pattern = '^([0-9]+)(\\/)([0-9]+)(\\/)([0-9][0-9]), ([0-9]+):([0-9][0-9]) (AM|PM) -'\n",
        "for line in clean_chat:\n",
        "  if re.findall(\"\\A\\d+[/]\", line):\n",
        "    msgs.append(line)\n",
        "    pos += 1\n",
        "  else:\n",
        "    merge = msgs[pos-1] + \". \" + line\n",
        "    msgs.append(merge)\n",
        "    msgs.pop(pos-1)\n",
        "\n",
        "print(len(msgs))"
      ],
      "execution_count": 9,
      "outputs": [
        {
          "output_type": "stream",
          "text": [
            "816\n"
          ],
          "name": "stdout"
        }
      ]
    },
    {
      "cell_type": "markdown",
      "metadata": {
        "id": "3wGiZMAtrXyl"
      },
      "source": [
        "Extract date and time component"
      ]
    },
    {
      "cell_type": "code",
      "metadata": {
        "id": "2X9CGQH6qcq9"
      },
      "source": [
        "time = [msgs[i].split(',')[1].split('-')[0] for i in range(len(msgs))]\n",
        "time = [s.strip(' ') for s in time]\n",
        "print(time)\n",
        "len(time)"
      ],
      "execution_count": null,
      "outputs": []
    },
    {
      "cell_type": "code",
      "metadata": {
        "id": "3ZrGlphtrJ-e"
      },
      "source": [
        "date = [msgs[i].split(',')[0] for i in range(len(msgs))]\n",
        "print(date)\n",
        "len(date)"
      ],
      "execution_count": null,
      "outputs": []
    },
    {
      "cell_type": "code",
      "metadata": {
        "id": "t3rj7rtjx0JT"
      },
      "source": [
        "name = [msgs[i].split('-')[1].split(':')[0] for i in range(len(msgs))]\n",
        "name = [n.strip(' ') for n in name]\n",
        "print(name)\n",
        "len(name)"
      ],
      "execution_count": null,
      "outputs": []
    },
    {
      "cell_type": "code",
      "metadata": {
        "id": "nyPqqMiPwumm"
      },
      "source": [
        "content = []\n",
        "for i in range(len(msgs)):\n",
        "  content.append(msgs[i].split(\":\")[2])\n",
        "\n",
        "content = [c.strip(' ') for c in content]\n",
        "print(content)\n",
        "len(content)"
      ],
      "execution_count": null,
      "outputs": []
    },
    {
      "cell_type": "markdown",
      "metadata": {
        "id": "busgMY200DHY"
      },
      "source": [
        "Create pandas data frame"
      ]
    },
    {
      "cell_type": "code",
      "metadata": {
        "id": "IlabPggTxNL0"
      },
      "source": [
        "df = pd.DataFrame(list(zip(date,time,name,content)),columns= [\"Date\",\"Time\",\"Name\",\"Content\"])"
      ],
      "execution_count": 14,
      "outputs": []
    },
    {
      "cell_type": "code",
      "metadata": {
        "id": "ldcLcRRkzlEh"
      },
      "source": [
        "df"
      ],
      "execution_count": null,
      "outputs": []
    },
    {
      "cell_type": "code",
      "metadata": {
        "id": "Ui6YuWqqzlrp"
      },
      "source": [
        "df = df.dropna()\n",
        "df"
      ],
      "execution_count": null,
      "outputs": []
    },
    {
      "cell_type": "code",
      "metadata": {
        "id": "zMknjFbPz6Q1"
      },
      "source": [
        "df['DateTime'] = pd.to_datetime(df['Date'] + ' ' + df['Time'])"
      ],
      "execution_count": 17,
      "outputs": []
    },
    {
      "cell_type": "markdown",
      "metadata": {
        "id": "tVrPyvijCklI"
      },
      "source": [
        "Remove media messages\n"
      ]
    },
    {
      "cell_type": "code",
      "metadata": {
        "colab": {
          "base_uri": "https://localhost:8080/"
        },
        "id": "ERrYqjxgCpa3",
        "outputId": "750065e1-b2f5-4125-9173-c521c02bb213"
      },
      "source": [
        "df_media = df[df['Content'] == \"<Media omitted>\"]\n",
        "df_media.shape"
      ],
      "execution_count": 18,
      "outputs": [
        {
          "output_type": "execute_result",
          "data": {
            "text/plain": [
              "(42, 5)"
            ]
          },
          "metadata": {
            "tags": []
          },
          "execution_count": 18
        }
      ]
    },
    {
      "cell_type": "code",
      "metadata": {
        "colab": {
          "base_uri": "https://localhost:8080/"
        },
        "id": "CsvWHwaSC6-Z",
        "outputId": "005fada2-bb84-4548-8b79-d8ea4ef69466"
      },
      "source": [
        "df_messages = df.drop(df_media.index)\n",
        "df_messages.shape\n"
      ],
      "execution_count": 96,
      "outputs": [
        {
          "output_type": "execute_result",
          "data": {
            "text/plain": [
              "(774, 5)"
            ]
          },
          "metadata": {
            "tags": []
          },
          "execution_count": 96
        }
      ]
    },
    {
      "cell_type": "markdown",
      "metadata": {
        "id": "KJEDhBY6G7rl"
      },
      "source": [
        "Add word cound and length to messages dataframe\n",
        "\n"
      ]
    },
    {
      "cell_type": "code",
      "metadata": {
        "id": "Xw6xwr1tF9Qs"
      },
      "source": [
        "df_messages[\"Length\"] = df_messages['Content'].apply(lambda x : (len(x.replace(\" \",\"\"))))\n",
        "df_messages"
      ],
      "execution_count": null,
      "outputs": []
    },
    {
      "cell_type": "code",
      "metadata": {
        "id": "VFBZSxr9H9VJ"
      },
      "source": [
        "df_messages[\"Words\"] = df_messages[\"Content\"].apply(lambda x : len(x.split(\" \")))\n",
        "df_messages"
      ],
      "execution_count": null,
      "outputs": []
    },
    {
      "cell_type": "code",
      "metadata": {
        "colab": {
          "base_uri": "https://localhost:8080/"
        },
        "id": "roww1BhPeBLz",
        "outputId": "be46df6d-698a-418d-f160-15008568a005"
      },
      "source": [
        "type(df_messages)"
      ],
      "execution_count": 22,
      "outputs": [
        {
          "output_type": "execute_result",
          "data": {
            "text/plain": [
              "pandas.core.frame.DataFrame"
            ]
          },
          "metadata": {
            "tags": []
          },
          "execution_count": 22
        }
      ]
    },
    {
      "cell_type": "markdown",
      "metadata": {
        "id": "jlDUD73mXTMb"
      },
      "source": [
        "Get Analytics - Member wise\n"
      ]
    },
    {
      "cell_type": "code",
      "metadata": {
        "colab": {
          "base_uri": "https://localhost:8080/"
        },
        "id": "rwtPOsyJO9O5",
        "outputId": "21e41664-26ab-4e2d-af47-9e1ec2882f43"
      },
      "source": [
        "members = df_messages['Name'].unique()\n",
        "members"
      ],
      "execution_count": 23,
      "outputs": [
        {
          "output_type": "execute_result",
          "data": {
            "text/plain": [
              "array(['Vandy', 'Baruni', 'N O', 'Aditi', 'Kartik M', 'Harshit M'],\n",
              "      dtype=object)"
            ]
          },
          "metadata": {
            "tags": []
          },
          "execution_count": 23
        }
      ]
    },
    {
      "cell_type": "code",
      "metadata": {
        "colab": {
          "base_uri": "https://localhost:8080/"
        },
        "id": "iIfHEChWXl3H",
        "outputId": "68215655-24c4-4e60-ffc6-ee64b04ac06b"
      },
      "source": [
        "avg_message = []\n",
        "avg_words = []\n",
        "ind_text_msg = []\n",
        "for member in members:\n",
        "  avg_message.append(round(df_messages[df_messages[\"Name\"] == member][\"Length\"].mean()))\n",
        "  avg_words.append(round((df_messages[df_messages[\"Name\"] == member][\"Words\"]).mean()))\n",
        "  ind_text_msg.append(df_messages[df_messages[\"Name\"] == member][\"Name\"].count())\n",
        "  \n",
        "\n",
        "print(avg_words)\n",
        "ind_text_msg\n",
        "print(avg_message)"
      ],
      "execution_count": 24,
      "outputs": [
        {
          "output_type": "stream",
          "text": [
            "[6, 5, 7, 5, 7, 3]\n",
            "[24, 19, 30, 21, 30, 16]\n"
          ],
          "name": "stdout"
        }
      ]
    },
    {
      "cell_type": "code",
      "metadata": {
        "colab": {
          "base_uri": "https://localhost:8080/"
        },
        "id": "COfzWThLXm2h",
        "outputId": "976591f1-b369-4ba7-ec84-d8141da1540d"
      },
      "source": [
        "media_sent = []\n",
        "for member in members:\n",
        "  media_sent.append(df_media[df_media[\"Name\"] == member][\"Name\"].count())\n",
        "\n",
        "media_sent\n"
      ],
      "execution_count": 25,
      "outputs": [
        {
          "output_type": "execute_result",
          "data": {
            "text/plain": [
              "[14, 12, 7, 8, 1, 0]"
            ]
          },
          "metadata": {
            "tags": []
          },
          "execution_count": 25
        }
      ]
    },
    {
      "cell_type": "code",
      "metadata": {
        "colab": {
          "base_uri": "https://localhost:8080/",
          "height": 542
        },
        "id": "dLE3wiXRZCWE",
        "outputId": "b8276d43-4575-4c22-9bdc-de3b14524cc5"
      },
      "source": [
        "plt_1 = px.bar(x = members,y = ind_text_msg,labels= {\"x\":\"Name\",\"y\":\"Message Count\"},width = 500, color = members,title = \"Total Messages sent\")\n",
        "plt_1.update_layout(showlegend=False)\n",
        "plt_1.show()"
      ],
      "execution_count": 91,
      "outputs": [
        {
          "output_type": "display_data",
          "data": {
            "text/html": [
              "<html>\n",
              "<head><meta charset=\"utf-8\" /></head>\n",
              "<body>\n",
              "    <div>\n",
              "            <script src=\"https://cdnjs.cloudflare.com/ajax/libs/mathjax/2.7.5/MathJax.js?config=TeX-AMS-MML_SVG\"></script><script type=\"text/javascript\">if (window.MathJax) {MathJax.Hub.Config({SVG: {font: \"STIX-Web\"}});}</script>\n",
              "                <script type=\"text/javascript\">window.PlotlyConfig = {MathJaxConfig: 'local'};</script>\n",
              "        <script src=\"https://cdn.plot.ly/plotly-latest.min.js\"></script>    \n",
              "            <div id=\"0ccc86b9-25ea-4a0d-9e69-0ff0f0f09a17\" class=\"plotly-graph-div\" style=\"height:525px; width:500px;\"></div>\n",
              "            <script type=\"text/javascript\">\n",
              "                \n",
              "                    window.PLOTLYENV=window.PLOTLYENV || {};\n",
              "                    \n",
              "                if (document.getElementById(\"0ccc86b9-25ea-4a0d-9e69-0ff0f0f09a17\")) {\n",
              "                    Plotly.newPlot(\n",
              "                        '0ccc86b9-25ea-4a0d-9e69-0ff0f0f09a17',\n",
              "                        [{\"alignmentgroup\": \"True\", \"hoverlabel\": {\"namelength\": 0}, \"hovertemplate\": \"color=Vandy<br>Name=%{x}<br>Message Count=%{y}\", \"legendgroup\": \"color=Vandy\", \"marker\": {\"color\": \"#636efa\"}, \"name\": \"color=Vandy\", \"offsetgroup\": \"color=Vandy\", \"orientation\": \"v\", \"showlegend\": true, \"textposition\": \"auto\", \"type\": \"bar\", \"x\": [\"Vandy\"], \"xaxis\": \"x\", \"y\": [244], \"yaxis\": \"y\"}, {\"alignmentgroup\": \"True\", \"hoverlabel\": {\"namelength\": 0}, \"hovertemplate\": \"color=Baruni<br>Name=%{x}<br>Message Count=%{y}\", \"legendgroup\": \"color=Baruni\", \"marker\": {\"color\": \"#EF553B\"}, \"name\": \"color=Baruni\", \"offsetgroup\": \"color=Baruni\", \"orientation\": \"v\", \"showlegend\": true, \"textposition\": \"auto\", \"type\": \"bar\", \"x\": [\"Baruni\"], \"xaxis\": \"x\", \"y\": [257], \"yaxis\": \"y\"}, {\"alignmentgroup\": \"True\", \"hoverlabel\": {\"namelength\": 0}, \"hovertemplate\": \"color=N O<br>Name=%{x}<br>Message Count=%{y}\", \"legendgroup\": \"color=N O\", \"marker\": {\"color\": \"#00cc96\"}, \"name\": \"color=N O\", \"offsetgroup\": \"color=N O\", \"orientation\": \"v\", \"showlegend\": true, \"textposition\": \"auto\", \"type\": \"bar\", \"x\": [\"N O\"], \"xaxis\": \"x\", \"y\": [147], \"yaxis\": \"y\"}, {\"alignmentgroup\": \"True\", \"hoverlabel\": {\"namelength\": 0}, \"hovertemplate\": \"color=Aditi<br>Name=%{x}<br>Message Count=%{y}\", \"legendgroup\": \"color=Aditi\", \"marker\": {\"color\": \"#ab63fa\"}, \"name\": \"color=Aditi\", \"offsetgroup\": \"color=Aditi\", \"orientation\": \"v\", \"showlegend\": true, \"textposition\": \"auto\", \"type\": \"bar\", \"x\": [\"Aditi\"], \"xaxis\": \"x\", \"y\": [90], \"yaxis\": \"y\"}, {\"alignmentgroup\": \"True\", \"hoverlabel\": {\"namelength\": 0}, \"hovertemplate\": \"color=Kartik M<br>Name=%{x}<br>Message Count=%{y}\", \"legendgroup\": \"color=Kartik M\", \"marker\": {\"color\": \"#FFA15A\"}, \"name\": \"color=Kartik M\", \"offsetgroup\": \"color=Kartik M\", \"orientation\": \"v\", \"showlegend\": true, \"textposition\": \"auto\", \"type\": \"bar\", \"x\": [\"Kartik M\"], \"xaxis\": \"x\", \"y\": [33], \"yaxis\": \"y\"}, {\"alignmentgroup\": \"True\", \"hoverlabel\": {\"namelength\": 0}, \"hovertemplate\": \"color=Harshit M<br>Name=%{x}<br>Message Count=%{y}\", \"legendgroup\": \"color=Harshit M\", \"marker\": {\"color\": \"#19d3f3\"}, \"name\": \"color=Harshit M\", \"offsetgroup\": \"color=Harshit M\", \"orientation\": \"v\", \"showlegend\": true, \"textposition\": \"auto\", \"type\": \"bar\", \"x\": [\"Harshit M\"], \"xaxis\": \"x\", \"y\": [3], \"yaxis\": \"y\"}],\n",
              "                        {\"barmode\": \"relative\", \"legend\": {\"tracegroupgap\": 0}, \"showlegend\": false, \"template\": {\"data\": {\"bar\": [{\"error_x\": {\"color\": \"#2a3f5f\"}, \"error_y\": {\"color\": \"#2a3f5f\"}, \"marker\": {\"line\": {\"color\": \"#E5ECF6\", \"width\": 0.5}}, \"type\": \"bar\"}], \"barpolar\": [{\"marker\": {\"line\": {\"color\": \"#E5ECF6\", \"width\": 0.5}}, \"type\": \"barpolar\"}], \"carpet\": [{\"aaxis\": {\"endlinecolor\": \"#2a3f5f\", \"gridcolor\": \"white\", \"linecolor\": \"white\", \"minorgridcolor\": \"white\", \"startlinecolor\": \"#2a3f5f\"}, \"baxis\": {\"endlinecolor\": \"#2a3f5f\", \"gridcolor\": \"white\", \"linecolor\": \"white\", \"minorgridcolor\": \"white\", \"startlinecolor\": \"#2a3f5f\"}, \"type\": \"carpet\"}], \"choropleth\": [{\"colorbar\": {\"outlinewidth\": 0, \"ticks\": \"\"}, \"type\": \"choropleth\"}], \"contour\": [{\"colorbar\": {\"outlinewidth\": 0, \"ticks\": \"\"}, \"colorscale\": [[0.0, \"#0d0887\"], [0.1111111111111111, \"#46039f\"], [0.2222222222222222, \"#7201a8\"], [0.3333333333333333, \"#9c179e\"], [0.4444444444444444, \"#bd3786\"], [0.5555555555555556, \"#d8576b\"], [0.6666666666666666, \"#ed7953\"], [0.7777777777777778, \"#fb9f3a\"], [0.8888888888888888, \"#fdca26\"], [1.0, \"#f0f921\"]], \"type\": \"contour\"}], \"contourcarpet\": [{\"colorbar\": {\"outlinewidth\": 0, \"ticks\": \"\"}, \"type\": \"contourcarpet\"}], \"heatmap\": [{\"colorbar\": {\"outlinewidth\": 0, \"ticks\": \"\"}, \"colorscale\": [[0.0, \"#0d0887\"], [0.1111111111111111, \"#46039f\"], [0.2222222222222222, \"#7201a8\"], [0.3333333333333333, \"#9c179e\"], [0.4444444444444444, \"#bd3786\"], [0.5555555555555556, \"#d8576b\"], [0.6666666666666666, \"#ed7953\"], [0.7777777777777778, \"#fb9f3a\"], [0.8888888888888888, \"#fdca26\"], [1.0, \"#f0f921\"]], \"type\": \"heatmap\"}], \"heatmapgl\": [{\"colorbar\": {\"outlinewidth\": 0, \"ticks\": \"\"}, \"colorscale\": [[0.0, \"#0d0887\"], [0.1111111111111111, \"#46039f\"], [0.2222222222222222, \"#7201a8\"], [0.3333333333333333, \"#9c179e\"], [0.4444444444444444, \"#bd3786\"], [0.5555555555555556, \"#d8576b\"], [0.6666666666666666, \"#ed7953\"], [0.7777777777777778, \"#fb9f3a\"], [0.8888888888888888, \"#fdca26\"], [1.0, \"#f0f921\"]], \"type\": \"heatmapgl\"}], \"histogram\": [{\"marker\": {\"colorbar\": {\"outlinewidth\": 0, \"ticks\": \"\"}}, \"type\": \"histogram\"}], \"histogram2d\": [{\"colorbar\": {\"outlinewidth\": 0, \"ticks\": \"\"}, \"colorscale\": [[0.0, \"#0d0887\"], [0.1111111111111111, \"#46039f\"], [0.2222222222222222, \"#7201a8\"], [0.3333333333333333, \"#9c179e\"], [0.4444444444444444, \"#bd3786\"], [0.5555555555555556, \"#d8576b\"], [0.6666666666666666, \"#ed7953\"], [0.7777777777777778, \"#fb9f3a\"], [0.8888888888888888, \"#fdca26\"], [1.0, \"#f0f921\"]], \"type\": \"histogram2d\"}], \"histogram2dcontour\": [{\"colorbar\": {\"outlinewidth\": 0, \"ticks\": \"\"}, \"colorscale\": [[0.0, \"#0d0887\"], [0.1111111111111111, \"#46039f\"], [0.2222222222222222, \"#7201a8\"], [0.3333333333333333, \"#9c179e\"], [0.4444444444444444, \"#bd3786\"], [0.5555555555555556, \"#d8576b\"], [0.6666666666666666, \"#ed7953\"], [0.7777777777777778, \"#fb9f3a\"], [0.8888888888888888, \"#fdca26\"], [1.0, \"#f0f921\"]], \"type\": \"histogram2dcontour\"}], \"mesh3d\": [{\"colorbar\": {\"outlinewidth\": 0, \"ticks\": \"\"}, \"type\": \"mesh3d\"}], \"parcoords\": [{\"line\": {\"colorbar\": {\"outlinewidth\": 0, \"ticks\": \"\"}}, \"type\": \"parcoords\"}], \"pie\": [{\"automargin\": true, \"type\": \"pie\"}], \"scatter\": [{\"marker\": {\"colorbar\": {\"outlinewidth\": 0, \"ticks\": \"\"}}, \"type\": \"scatter\"}], \"scatter3d\": [{\"line\": {\"colorbar\": {\"outlinewidth\": 0, \"ticks\": \"\"}}, \"marker\": {\"colorbar\": {\"outlinewidth\": 0, \"ticks\": \"\"}}, \"type\": \"scatter3d\"}], \"scattercarpet\": [{\"marker\": {\"colorbar\": {\"outlinewidth\": 0, \"ticks\": \"\"}}, \"type\": \"scattercarpet\"}], \"scattergeo\": [{\"marker\": {\"colorbar\": {\"outlinewidth\": 0, \"ticks\": \"\"}}, \"type\": \"scattergeo\"}], \"scattergl\": [{\"marker\": {\"colorbar\": {\"outlinewidth\": 0, \"ticks\": \"\"}}, \"type\": \"scattergl\"}], \"scattermapbox\": [{\"marker\": {\"colorbar\": {\"outlinewidth\": 0, \"ticks\": \"\"}}, \"type\": \"scattermapbox\"}], \"scatterpolar\": [{\"marker\": {\"colorbar\": {\"outlinewidth\": 0, \"ticks\": \"\"}}, \"type\": \"scatterpolar\"}], \"scatterpolargl\": [{\"marker\": {\"colorbar\": {\"outlinewidth\": 0, \"ticks\": \"\"}}, \"type\": \"scatterpolargl\"}], \"scatterternary\": [{\"marker\": {\"colorbar\": {\"outlinewidth\": 0, \"ticks\": \"\"}}, \"type\": \"scatterternary\"}], \"surface\": [{\"colorbar\": {\"outlinewidth\": 0, \"ticks\": \"\"}, \"colorscale\": [[0.0, \"#0d0887\"], [0.1111111111111111, \"#46039f\"], [0.2222222222222222, \"#7201a8\"], [0.3333333333333333, \"#9c179e\"], [0.4444444444444444, \"#bd3786\"], [0.5555555555555556, \"#d8576b\"], [0.6666666666666666, \"#ed7953\"], [0.7777777777777778, \"#fb9f3a\"], [0.8888888888888888, \"#fdca26\"], [1.0, \"#f0f921\"]], \"type\": \"surface\"}], \"table\": [{\"cells\": {\"fill\": {\"color\": \"#EBF0F8\"}, \"line\": {\"color\": \"white\"}}, \"header\": {\"fill\": {\"color\": \"#C8D4E3\"}, \"line\": {\"color\": \"white\"}}, \"type\": \"table\"}]}, \"layout\": {\"annotationdefaults\": {\"arrowcolor\": \"#2a3f5f\", \"arrowhead\": 0, \"arrowwidth\": 1}, \"coloraxis\": {\"colorbar\": {\"outlinewidth\": 0, \"ticks\": \"\"}}, \"colorscale\": {\"diverging\": [[0, \"#8e0152\"], [0.1, \"#c51b7d\"], [0.2, \"#de77ae\"], [0.3, \"#f1b6da\"], [0.4, \"#fde0ef\"], [0.5, \"#f7f7f7\"], [0.6, \"#e6f5d0\"], [0.7, \"#b8e186\"], [0.8, \"#7fbc41\"], [0.9, \"#4d9221\"], [1, \"#276419\"]], \"sequential\": [[0.0, \"#0d0887\"], [0.1111111111111111, \"#46039f\"], [0.2222222222222222, \"#7201a8\"], [0.3333333333333333, \"#9c179e\"], [0.4444444444444444, \"#bd3786\"], [0.5555555555555556, \"#d8576b\"], [0.6666666666666666, \"#ed7953\"], [0.7777777777777778, \"#fb9f3a\"], [0.8888888888888888, \"#fdca26\"], [1.0, \"#f0f921\"]], \"sequentialminus\": [[0.0, \"#0d0887\"], [0.1111111111111111, \"#46039f\"], [0.2222222222222222, \"#7201a8\"], [0.3333333333333333, \"#9c179e\"], [0.4444444444444444, \"#bd3786\"], [0.5555555555555556, \"#d8576b\"], [0.6666666666666666, \"#ed7953\"], [0.7777777777777778, \"#fb9f3a\"], [0.8888888888888888, \"#fdca26\"], [1.0, \"#f0f921\"]]}, \"colorway\": [\"#636efa\", \"#EF553B\", \"#00cc96\", \"#ab63fa\", \"#FFA15A\", \"#19d3f3\", \"#FF6692\", \"#B6E880\", \"#FF97FF\", \"#FECB52\"], \"font\": {\"color\": \"#2a3f5f\"}, \"geo\": {\"bgcolor\": \"white\", \"lakecolor\": \"white\", \"landcolor\": \"#E5ECF6\", \"showlakes\": true, \"showland\": true, \"subunitcolor\": \"white\"}, \"hoverlabel\": {\"align\": \"left\"}, \"hovermode\": \"closest\", \"mapbox\": {\"style\": \"light\"}, \"paper_bgcolor\": \"white\", \"plot_bgcolor\": \"#E5ECF6\", \"polar\": {\"angularaxis\": {\"gridcolor\": \"white\", \"linecolor\": \"white\", \"ticks\": \"\"}, \"bgcolor\": \"#E5ECF6\", \"radialaxis\": {\"gridcolor\": \"white\", \"linecolor\": \"white\", \"ticks\": \"\"}}, \"scene\": {\"xaxis\": {\"backgroundcolor\": \"#E5ECF6\", \"gridcolor\": \"white\", \"gridwidth\": 2, \"linecolor\": \"white\", \"showbackground\": true, \"ticks\": \"\", \"zerolinecolor\": \"white\"}, \"yaxis\": {\"backgroundcolor\": \"#E5ECF6\", \"gridcolor\": \"white\", \"gridwidth\": 2, \"linecolor\": \"white\", \"showbackground\": true, \"ticks\": \"\", \"zerolinecolor\": \"white\"}, \"zaxis\": {\"backgroundcolor\": \"#E5ECF6\", \"gridcolor\": \"white\", \"gridwidth\": 2, \"linecolor\": \"white\", \"showbackground\": true, \"ticks\": \"\", \"zerolinecolor\": \"white\"}}, \"shapedefaults\": {\"line\": {\"color\": \"#2a3f5f\"}}, \"ternary\": {\"aaxis\": {\"gridcolor\": \"white\", \"linecolor\": \"white\", \"ticks\": \"\"}, \"baxis\": {\"gridcolor\": \"white\", \"linecolor\": \"white\", \"ticks\": \"\"}, \"bgcolor\": \"#E5ECF6\", \"caxis\": {\"gridcolor\": \"white\", \"linecolor\": \"white\", \"ticks\": \"\"}}, \"title\": {\"x\": 0.05}, \"xaxis\": {\"automargin\": true, \"gridcolor\": \"white\", \"linecolor\": \"white\", \"ticks\": \"\", \"title\": {\"standoff\": 15}, \"zerolinecolor\": \"white\", \"zerolinewidth\": 2}, \"yaxis\": {\"automargin\": true, \"gridcolor\": \"white\", \"linecolor\": \"white\", \"ticks\": \"\", \"title\": {\"standoff\": 15}, \"zerolinecolor\": \"white\", \"zerolinewidth\": 2}}}, \"title\": {\"text\": \"Total Messages sent\"}, \"width\": 500, \"xaxis\": {\"anchor\": \"y\", \"domain\": [0.0, 1.0], \"title\": {\"text\": \"Name\"}}, \"yaxis\": {\"anchor\": \"x\", \"domain\": [0.0, 1.0], \"title\": {\"text\": \"Message Count\"}}},\n",
              "                        {\"responsive\": true}\n",
              "                    ).then(function(){\n",
              "                            \n",
              "var gd = document.getElementById('0ccc86b9-25ea-4a0d-9e69-0ff0f0f09a17');\n",
              "var x = new MutationObserver(function (mutations, observer) {{\n",
              "        var display = window.getComputedStyle(gd).display;\n",
              "        if (!display || display === 'none') {{\n",
              "            console.log([gd, 'removed!']);\n",
              "            Plotly.purge(gd);\n",
              "            observer.disconnect();\n",
              "        }}\n",
              "}});\n",
              "\n",
              "// Listen for the removal of the full notebook cells\n",
              "var notebookContainer = gd.closest('#notebook-container');\n",
              "if (notebookContainer) {{\n",
              "    x.observe(notebookContainer, {childList: true});\n",
              "}}\n",
              "\n",
              "// Listen for the clearing of the current output cell\n",
              "var outputEl = gd.closest('.output');\n",
              "if (outputEl) {{\n",
              "    x.observe(outputEl, {childList: true});\n",
              "}}\n",
              "\n",
              "                        })\n",
              "                };\n",
              "                \n",
              "            </script>\n",
              "        </div>\n",
              "</body>\n",
              "</html>"
            ]
          },
          "metadata": {
            "tags": []
          }
        }
      ]
    },
    {
      "cell_type": "code",
      "metadata": {
        "colab": {
          "base_uri": "https://localhost:8080/",
          "height": 542
        },
        "id": "Vr3MVnuGdpGe",
        "outputId": "486d4cf2-8b11-4110-99dd-6f8d68e0f5f8"
      },
      "source": [
        "plt_2 = px.bar(x = members,y = media_sent,labels= {\"x\":\"Name\",\"y\":\"Media Count\"},width = 500, color = members,title = \"Total Media sent\")\n",
        "plt_2.update_layout(showlegend=False)\n",
        "plt_2.show()"
      ],
      "execution_count": 92,
      "outputs": [
        {
          "output_type": "display_data",
          "data": {
            "text/html": [
              "<html>\n",
              "<head><meta charset=\"utf-8\" /></head>\n",
              "<body>\n",
              "    <div>\n",
              "            <script src=\"https://cdnjs.cloudflare.com/ajax/libs/mathjax/2.7.5/MathJax.js?config=TeX-AMS-MML_SVG\"></script><script type=\"text/javascript\">if (window.MathJax) {MathJax.Hub.Config({SVG: {font: \"STIX-Web\"}});}</script>\n",
              "                <script type=\"text/javascript\">window.PlotlyConfig = {MathJaxConfig: 'local'};</script>\n",
              "        <script src=\"https://cdn.plot.ly/plotly-latest.min.js\"></script>    \n",
              "            <div id=\"88adc9df-b90c-4224-be44-ac588cba8536\" class=\"plotly-graph-div\" style=\"height:525px; width:500px;\"></div>\n",
              "            <script type=\"text/javascript\">\n",
              "                \n",
              "                    window.PLOTLYENV=window.PLOTLYENV || {};\n",
              "                    \n",
              "                if (document.getElementById(\"88adc9df-b90c-4224-be44-ac588cba8536\")) {\n",
              "                    Plotly.newPlot(\n",
              "                        '88adc9df-b90c-4224-be44-ac588cba8536',\n",
              "                        [{\"alignmentgroup\": \"True\", \"hoverlabel\": {\"namelength\": 0}, \"hovertemplate\": \"color=Vandy<br>Name=%{x}<br>Media Count=%{y}\", \"legendgroup\": \"color=Vandy\", \"marker\": {\"color\": \"#636efa\"}, \"name\": \"color=Vandy\", \"offsetgroup\": \"color=Vandy\", \"orientation\": \"v\", \"showlegend\": true, \"textposition\": \"auto\", \"type\": \"bar\", \"x\": [\"Vandy\"], \"xaxis\": \"x\", \"y\": [14], \"yaxis\": \"y\"}, {\"alignmentgroup\": \"True\", \"hoverlabel\": {\"namelength\": 0}, \"hovertemplate\": \"color=Baruni<br>Name=%{x}<br>Media Count=%{y}\", \"legendgroup\": \"color=Baruni\", \"marker\": {\"color\": \"#EF553B\"}, \"name\": \"color=Baruni\", \"offsetgroup\": \"color=Baruni\", \"orientation\": \"v\", \"showlegend\": true, \"textposition\": \"auto\", \"type\": \"bar\", \"x\": [\"Baruni\"], \"xaxis\": \"x\", \"y\": [12], \"yaxis\": \"y\"}, {\"alignmentgroup\": \"True\", \"hoverlabel\": {\"namelength\": 0}, \"hovertemplate\": \"color=N O<br>Name=%{x}<br>Media Count=%{y}\", \"legendgroup\": \"color=N O\", \"marker\": {\"color\": \"#00cc96\"}, \"name\": \"color=N O\", \"offsetgroup\": \"color=N O\", \"orientation\": \"v\", \"showlegend\": true, \"textposition\": \"auto\", \"type\": \"bar\", \"x\": [\"N O\"], \"xaxis\": \"x\", \"y\": [7], \"yaxis\": \"y\"}, {\"alignmentgroup\": \"True\", \"hoverlabel\": {\"namelength\": 0}, \"hovertemplate\": \"color=Aditi<br>Name=%{x}<br>Media Count=%{y}\", \"legendgroup\": \"color=Aditi\", \"marker\": {\"color\": \"#ab63fa\"}, \"name\": \"color=Aditi\", \"offsetgroup\": \"color=Aditi\", \"orientation\": \"v\", \"showlegend\": true, \"textposition\": \"auto\", \"type\": \"bar\", \"x\": [\"Aditi\"], \"xaxis\": \"x\", \"y\": [8], \"yaxis\": \"y\"}, {\"alignmentgroup\": \"True\", \"hoverlabel\": {\"namelength\": 0}, \"hovertemplate\": \"color=Kartik M<br>Name=%{x}<br>Media Count=%{y}\", \"legendgroup\": \"color=Kartik M\", \"marker\": {\"color\": \"#FFA15A\"}, \"name\": \"color=Kartik M\", \"offsetgroup\": \"color=Kartik M\", \"orientation\": \"v\", \"showlegend\": true, \"textposition\": \"auto\", \"type\": \"bar\", \"x\": [\"Kartik M\"], \"xaxis\": \"x\", \"y\": [1], \"yaxis\": \"y\"}, {\"alignmentgroup\": \"True\", \"hoverlabel\": {\"namelength\": 0}, \"hovertemplate\": \"color=Harshit M<br>Name=%{x}<br>Media Count=%{y}\", \"legendgroup\": \"color=Harshit M\", \"marker\": {\"color\": \"#19d3f3\"}, \"name\": \"color=Harshit M\", \"offsetgroup\": \"color=Harshit M\", \"orientation\": \"v\", \"showlegend\": true, \"textposition\": \"auto\", \"type\": \"bar\", \"x\": [\"Harshit M\"], \"xaxis\": \"x\", \"y\": [0], \"yaxis\": \"y\"}],\n",
              "                        {\"barmode\": \"relative\", \"legend\": {\"tracegroupgap\": 0}, \"showlegend\": false, \"template\": {\"data\": {\"bar\": [{\"error_x\": {\"color\": \"#2a3f5f\"}, \"error_y\": {\"color\": \"#2a3f5f\"}, \"marker\": {\"line\": {\"color\": \"#E5ECF6\", \"width\": 0.5}}, \"type\": \"bar\"}], \"barpolar\": [{\"marker\": {\"line\": {\"color\": \"#E5ECF6\", \"width\": 0.5}}, \"type\": \"barpolar\"}], \"carpet\": [{\"aaxis\": {\"endlinecolor\": \"#2a3f5f\", \"gridcolor\": \"white\", \"linecolor\": \"white\", \"minorgridcolor\": \"white\", \"startlinecolor\": \"#2a3f5f\"}, \"baxis\": {\"endlinecolor\": \"#2a3f5f\", \"gridcolor\": \"white\", \"linecolor\": \"white\", \"minorgridcolor\": \"white\", \"startlinecolor\": \"#2a3f5f\"}, \"type\": \"carpet\"}], \"choropleth\": [{\"colorbar\": {\"outlinewidth\": 0, \"ticks\": \"\"}, \"type\": \"choropleth\"}], \"contour\": [{\"colorbar\": {\"outlinewidth\": 0, \"ticks\": \"\"}, \"colorscale\": [[0.0, \"#0d0887\"], [0.1111111111111111, \"#46039f\"], [0.2222222222222222, \"#7201a8\"], [0.3333333333333333, \"#9c179e\"], [0.4444444444444444, \"#bd3786\"], [0.5555555555555556, \"#d8576b\"], [0.6666666666666666, \"#ed7953\"], [0.7777777777777778, \"#fb9f3a\"], [0.8888888888888888, \"#fdca26\"], [1.0, \"#f0f921\"]], \"type\": \"contour\"}], \"contourcarpet\": [{\"colorbar\": {\"outlinewidth\": 0, \"ticks\": \"\"}, \"type\": \"contourcarpet\"}], \"heatmap\": [{\"colorbar\": {\"outlinewidth\": 0, \"ticks\": \"\"}, \"colorscale\": [[0.0, \"#0d0887\"], [0.1111111111111111, \"#46039f\"], [0.2222222222222222, \"#7201a8\"], [0.3333333333333333, \"#9c179e\"], [0.4444444444444444, \"#bd3786\"], [0.5555555555555556, \"#d8576b\"], [0.6666666666666666, \"#ed7953\"], [0.7777777777777778, \"#fb9f3a\"], [0.8888888888888888, \"#fdca26\"], [1.0, \"#f0f921\"]], \"type\": \"heatmap\"}], \"heatmapgl\": [{\"colorbar\": {\"outlinewidth\": 0, \"ticks\": \"\"}, \"colorscale\": [[0.0, \"#0d0887\"], [0.1111111111111111, \"#46039f\"], [0.2222222222222222, \"#7201a8\"], [0.3333333333333333, \"#9c179e\"], [0.4444444444444444, \"#bd3786\"], [0.5555555555555556, \"#d8576b\"], [0.6666666666666666, \"#ed7953\"], [0.7777777777777778, \"#fb9f3a\"], [0.8888888888888888, \"#fdca26\"], [1.0, \"#f0f921\"]], \"type\": \"heatmapgl\"}], \"histogram\": [{\"marker\": {\"colorbar\": {\"outlinewidth\": 0, \"ticks\": \"\"}}, \"type\": \"histogram\"}], \"histogram2d\": [{\"colorbar\": {\"outlinewidth\": 0, \"ticks\": \"\"}, \"colorscale\": [[0.0, \"#0d0887\"], [0.1111111111111111, \"#46039f\"], [0.2222222222222222, \"#7201a8\"], [0.3333333333333333, \"#9c179e\"], [0.4444444444444444, \"#bd3786\"], [0.5555555555555556, \"#d8576b\"], [0.6666666666666666, \"#ed7953\"], [0.7777777777777778, \"#fb9f3a\"], [0.8888888888888888, \"#fdca26\"], [1.0, \"#f0f921\"]], \"type\": \"histogram2d\"}], \"histogram2dcontour\": [{\"colorbar\": {\"outlinewidth\": 0, \"ticks\": \"\"}, \"colorscale\": [[0.0, \"#0d0887\"], [0.1111111111111111, \"#46039f\"], [0.2222222222222222, \"#7201a8\"], [0.3333333333333333, \"#9c179e\"], [0.4444444444444444, \"#bd3786\"], [0.5555555555555556, \"#d8576b\"], [0.6666666666666666, \"#ed7953\"], [0.7777777777777778, \"#fb9f3a\"], [0.8888888888888888, \"#fdca26\"], [1.0, \"#f0f921\"]], \"type\": \"histogram2dcontour\"}], \"mesh3d\": [{\"colorbar\": {\"outlinewidth\": 0, \"ticks\": \"\"}, \"type\": \"mesh3d\"}], \"parcoords\": [{\"line\": {\"colorbar\": {\"outlinewidth\": 0, \"ticks\": \"\"}}, \"type\": \"parcoords\"}], \"pie\": [{\"automargin\": true, \"type\": \"pie\"}], \"scatter\": [{\"marker\": {\"colorbar\": {\"outlinewidth\": 0, \"ticks\": \"\"}}, \"type\": \"scatter\"}], \"scatter3d\": [{\"line\": {\"colorbar\": {\"outlinewidth\": 0, \"ticks\": \"\"}}, \"marker\": {\"colorbar\": {\"outlinewidth\": 0, \"ticks\": \"\"}}, \"type\": \"scatter3d\"}], \"scattercarpet\": [{\"marker\": {\"colorbar\": {\"outlinewidth\": 0, \"ticks\": \"\"}}, \"type\": \"scattercarpet\"}], \"scattergeo\": [{\"marker\": {\"colorbar\": {\"outlinewidth\": 0, \"ticks\": \"\"}}, \"type\": \"scattergeo\"}], \"scattergl\": [{\"marker\": {\"colorbar\": {\"outlinewidth\": 0, \"ticks\": \"\"}}, \"type\": \"scattergl\"}], \"scattermapbox\": [{\"marker\": {\"colorbar\": {\"outlinewidth\": 0, \"ticks\": \"\"}}, \"type\": \"scattermapbox\"}], \"scatterpolar\": [{\"marker\": {\"colorbar\": {\"outlinewidth\": 0, \"ticks\": \"\"}}, \"type\": \"scatterpolar\"}], \"scatterpolargl\": [{\"marker\": {\"colorbar\": {\"outlinewidth\": 0, \"ticks\": \"\"}}, \"type\": \"scatterpolargl\"}], \"scatterternary\": [{\"marker\": {\"colorbar\": {\"outlinewidth\": 0, \"ticks\": \"\"}}, \"type\": \"scatterternary\"}], \"surface\": [{\"colorbar\": {\"outlinewidth\": 0, \"ticks\": \"\"}, \"colorscale\": [[0.0, \"#0d0887\"], [0.1111111111111111, \"#46039f\"], [0.2222222222222222, \"#7201a8\"], [0.3333333333333333, \"#9c179e\"], [0.4444444444444444, \"#bd3786\"], [0.5555555555555556, \"#d8576b\"], [0.6666666666666666, \"#ed7953\"], [0.7777777777777778, \"#fb9f3a\"], [0.8888888888888888, \"#fdca26\"], [1.0, \"#f0f921\"]], \"type\": \"surface\"}], \"table\": [{\"cells\": {\"fill\": {\"color\": \"#EBF0F8\"}, \"line\": {\"color\": \"white\"}}, \"header\": {\"fill\": {\"color\": \"#C8D4E3\"}, \"line\": {\"color\": \"white\"}}, \"type\": \"table\"}]}, \"layout\": {\"annotationdefaults\": {\"arrowcolor\": \"#2a3f5f\", \"arrowhead\": 0, \"arrowwidth\": 1}, \"coloraxis\": {\"colorbar\": {\"outlinewidth\": 0, \"ticks\": \"\"}}, \"colorscale\": {\"diverging\": [[0, \"#8e0152\"], [0.1, \"#c51b7d\"], [0.2, \"#de77ae\"], [0.3, \"#f1b6da\"], [0.4, \"#fde0ef\"], [0.5, \"#f7f7f7\"], [0.6, \"#e6f5d0\"], [0.7, \"#b8e186\"], [0.8, \"#7fbc41\"], [0.9, \"#4d9221\"], [1, \"#276419\"]], \"sequential\": [[0.0, \"#0d0887\"], [0.1111111111111111, \"#46039f\"], [0.2222222222222222, \"#7201a8\"], [0.3333333333333333, \"#9c179e\"], [0.4444444444444444, \"#bd3786\"], [0.5555555555555556, \"#d8576b\"], [0.6666666666666666, \"#ed7953\"], [0.7777777777777778, \"#fb9f3a\"], [0.8888888888888888, \"#fdca26\"], [1.0, \"#f0f921\"]], \"sequentialminus\": [[0.0, \"#0d0887\"], [0.1111111111111111, \"#46039f\"], [0.2222222222222222, \"#7201a8\"], [0.3333333333333333, \"#9c179e\"], [0.4444444444444444, \"#bd3786\"], [0.5555555555555556, \"#d8576b\"], [0.6666666666666666, \"#ed7953\"], [0.7777777777777778, \"#fb9f3a\"], [0.8888888888888888, \"#fdca26\"], [1.0, \"#f0f921\"]]}, \"colorway\": [\"#636efa\", \"#EF553B\", \"#00cc96\", \"#ab63fa\", \"#FFA15A\", \"#19d3f3\", \"#FF6692\", \"#B6E880\", \"#FF97FF\", \"#FECB52\"], \"font\": {\"color\": \"#2a3f5f\"}, \"geo\": {\"bgcolor\": \"white\", \"lakecolor\": \"white\", \"landcolor\": \"#E5ECF6\", \"showlakes\": true, \"showland\": true, \"subunitcolor\": \"white\"}, \"hoverlabel\": {\"align\": \"left\"}, \"hovermode\": \"closest\", \"mapbox\": {\"style\": \"light\"}, \"paper_bgcolor\": \"white\", \"plot_bgcolor\": \"#E5ECF6\", \"polar\": {\"angularaxis\": {\"gridcolor\": \"white\", \"linecolor\": \"white\", \"ticks\": \"\"}, \"bgcolor\": \"#E5ECF6\", \"radialaxis\": {\"gridcolor\": \"white\", \"linecolor\": \"white\", \"ticks\": \"\"}}, \"scene\": {\"xaxis\": {\"backgroundcolor\": \"#E5ECF6\", \"gridcolor\": \"white\", \"gridwidth\": 2, \"linecolor\": \"white\", \"showbackground\": true, \"ticks\": \"\", \"zerolinecolor\": \"white\"}, \"yaxis\": {\"backgroundcolor\": \"#E5ECF6\", \"gridcolor\": \"white\", \"gridwidth\": 2, \"linecolor\": \"white\", \"showbackground\": true, \"ticks\": \"\", \"zerolinecolor\": \"white\"}, \"zaxis\": {\"backgroundcolor\": \"#E5ECF6\", \"gridcolor\": \"white\", \"gridwidth\": 2, \"linecolor\": \"white\", \"showbackground\": true, \"ticks\": \"\", \"zerolinecolor\": \"white\"}}, \"shapedefaults\": {\"line\": {\"color\": \"#2a3f5f\"}}, \"ternary\": {\"aaxis\": {\"gridcolor\": \"white\", \"linecolor\": \"white\", \"ticks\": \"\"}, \"baxis\": {\"gridcolor\": \"white\", \"linecolor\": \"white\", \"ticks\": \"\"}, \"bgcolor\": \"#E5ECF6\", \"caxis\": {\"gridcolor\": \"white\", \"linecolor\": \"white\", \"ticks\": \"\"}}, \"title\": {\"x\": 0.05}, \"xaxis\": {\"automargin\": true, \"gridcolor\": \"white\", \"linecolor\": \"white\", \"ticks\": \"\", \"title\": {\"standoff\": 15}, \"zerolinecolor\": \"white\", \"zerolinewidth\": 2}, \"yaxis\": {\"automargin\": true, \"gridcolor\": \"white\", \"linecolor\": \"white\", \"ticks\": \"\", \"title\": {\"standoff\": 15}, \"zerolinecolor\": \"white\", \"zerolinewidth\": 2}}}, \"title\": {\"text\": \"Total Media sent\"}, \"width\": 500, \"xaxis\": {\"anchor\": \"y\", \"domain\": [0.0, 1.0], \"title\": {\"text\": \"Name\"}}, \"yaxis\": {\"anchor\": \"x\", \"domain\": [0.0, 1.0], \"title\": {\"text\": \"Media Count\"}}},\n",
              "                        {\"responsive\": true}\n",
              "                    ).then(function(){\n",
              "                            \n",
              "var gd = document.getElementById('88adc9df-b90c-4224-be44-ac588cba8536');\n",
              "var x = new MutationObserver(function (mutations, observer) {{\n",
              "        var display = window.getComputedStyle(gd).display;\n",
              "        if (!display || display === 'none') {{\n",
              "            console.log([gd, 'removed!']);\n",
              "            Plotly.purge(gd);\n",
              "            observer.disconnect();\n",
              "        }}\n",
              "}});\n",
              "\n",
              "// Listen for the removal of the full notebook cells\n",
              "var notebookContainer = gd.closest('#notebook-container');\n",
              "if (notebookContainer) {{\n",
              "    x.observe(notebookContainer, {childList: true});\n",
              "}}\n",
              "\n",
              "// Listen for the clearing of the current output cell\n",
              "var outputEl = gd.closest('.output');\n",
              "if (outputEl) {{\n",
              "    x.observe(outputEl, {childList: true});\n",
              "}}\n",
              "\n",
              "                        })\n",
              "                };\n",
              "                \n",
              "            </script>\n",
              "        </div>\n",
              "</body>\n",
              "</html>"
            ]
          },
          "metadata": {
            "tags": []
          }
        }
      ]
    },
    {
      "cell_type": "code",
      "metadata": {
        "colab": {
          "base_uri": "https://localhost:8080/",
          "height": 542
        },
        "id": "N8CbVvvAd7fK",
        "outputId": "025b5c9a-215f-4f44-f827-759271db44d7"
      },
      "source": [
        "\n",
        "plt_2 = px.bar(x = members,y = avg_message,labels= {\"x\":\"Name\",\"y\":\"Average char count\"},width = 500, color = members,title = \"Average message length\")\n",
        "plt_2.update_layout(showlegend=False)\n",
        "plt_2.show()"
      ],
      "execution_count": 93,
      "outputs": [
        {
          "output_type": "display_data",
          "data": {
            "text/html": [
              "<html>\n",
              "<head><meta charset=\"utf-8\" /></head>\n",
              "<body>\n",
              "    <div>\n",
              "            <script src=\"https://cdnjs.cloudflare.com/ajax/libs/mathjax/2.7.5/MathJax.js?config=TeX-AMS-MML_SVG\"></script><script type=\"text/javascript\">if (window.MathJax) {MathJax.Hub.Config({SVG: {font: \"STIX-Web\"}});}</script>\n",
              "                <script type=\"text/javascript\">window.PlotlyConfig = {MathJaxConfig: 'local'};</script>\n",
              "        <script src=\"https://cdn.plot.ly/plotly-latest.min.js\"></script>    \n",
              "            <div id=\"e060b941-f062-4384-b662-f75b44562830\" class=\"plotly-graph-div\" style=\"height:525px; width:500px;\"></div>\n",
              "            <script type=\"text/javascript\">\n",
              "                \n",
              "                    window.PLOTLYENV=window.PLOTLYENV || {};\n",
              "                    \n",
              "                if (document.getElementById(\"e060b941-f062-4384-b662-f75b44562830\")) {\n",
              "                    Plotly.newPlot(\n",
              "                        'e060b941-f062-4384-b662-f75b44562830',\n",
              "                        [{\"alignmentgroup\": \"True\", \"hoverlabel\": {\"namelength\": 0}, \"hovertemplate\": \"color=Vandy<br>Name=%{x}<br>Average char count=%{y}\", \"legendgroup\": \"color=Vandy\", \"marker\": {\"color\": \"#636efa\"}, \"name\": \"color=Vandy\", \"offsetgroup\": \"color=Vandy\", \"orientation\": \"v\", \"showlegend\": true, \"textposition\": \"auto\", \"type\": \"bar\", \"x\": [\"Vandy\"], \"xaxis\": \"x\", \"y\": [24], \"yaxis\": \"y\"}, {\"alignmentgroup\": \"True\", \"hoverlabel\": {\"namelength\": 0}, \"hovertemplate\": \"color=Baruni<br>Name=%{x}<br>Average char count=%{y}\", \"legendgroup\": \"color=Baruni\", \"marker\": {\"color\": \"#EF553B\"}, \"name\": \"color=Baruni\", \"offsetgroup\": \"color=Baruni\", \"orientation\": \"v\", \"showlegend\": true, \"textposition\": \"auto\", \"type\": \"bar\", \"x\": [\"Baruni\"], \"xaxis\": \"x\", \"y\": [19], \"yaxis\": \"y\"}, {\"alignmentgroup\": \"True\", \"hoverlabel\": {\"namelength\": 0}, \"hovertemplate\": \"color=N O<br>Name=%{x}<br>Average char count=%{y}\", \"legendgroup\": \"color=N O\", \"marker\": {\"color\": \"#00cc96\"}, \"name\": \"color=N O\", \"offsetgroup\": \"color=N O\", \"orientation\": \"v\", \"showlegend\": true, \"textposition\": \"auto\", \"type\": \"bar\", \"x\": [\"N O\"], \"xaxis\": \"x\", \"y\": [30], \"yaxis\": \"y\"}, {\"alignmentgroup\": \"True\", \"hoverlabel\": {\"namelength\": 0}, \"hovertemplate\": \"color=Aditi<br>Name=%{x}<br>Average char count=%{y}\", \"legendgroup\": \"color=Aditi\", \"marker\": {\"color\": \"#ab63fa\"}, \"name\": \"color=Aditi\", \"offsetgroup\": \"color=Aditi\", \"orientation\": \"v\", \"showlegend\": true, \"textposition\": \"auto\", \"type\": \"bar\", \"x\": [\"Aditi\"], \"xaxis\": \"x\", \"y\": [21], \"yaxis\": \"y\"}, {\"alignmentgroup\": \"True\", \"hoverlabel\": {\"namelength\": 0}, \"hovertemplate\": \"color=Kartik M<br>Name=%{x}<br>Average char count=%{y}\", \"legendgroup\": \"color=Kartik M\", \"marker\": {\"color\": \"#FFA15A\"}, \"name\": \"color=Kartik M\", \"offsetgroup\": \"color=Kartik M\", \"orientation\": \"v\", \"showlegend\": true, \"textposition\": \"auto\", \"type\": \"bar\", \"x\": [\"Kartik M\"], \"xaxis\": \"x\", \"y\": [30], \"yaxis\": \"y\"}, {\"alignmentgroup\": \"True\", \"hoverlabel\": {\"namelength\": 0}, \"hovertemplate\": \"color=Harshit M<br>Name=%{x}<br>Average char count=%{y}\", \"legendgroup\": \"color=Harshit M\", \"marker\": {\"color\": \"#19d3f3\"}, \"name\": \"color=Harshit M\", \"offsetgroup\": \"color=Harshit M\", \"orientation\": \"v\", \"showlegend\": true, \"textposition\": \"auto\", \"type\": \"bar\", \"x\": [\"Harshit M\"], \"xaxis\": \"x\", \"y\": [16], \"yaxis\": \"y\"}],\n",
              "                        {\"barmode\": \"relative\", \"legend\": {\"tracegroupgap\": 0}, \"showlegend\": false, \"template\": {\"data\": {\"bar\": [{\"error_x\": {\"color\": \"#2a3f5f\"}, \"error_y\": {\"color\": \"#2a3f5f\"}, \"marker\": {\"line\": {\"color\": \"#E5ECF6\", \"width\": 0.5}}, \"type\": \"bar\"}], \"barpolar\": [{\"marker\": {\"line\": {\"color\": \"#E5ECF6\", \"width\": 0.5}}, \"type\": \"barpolar\"}], \"carpet\": [{\"aaxis\": {\"endlinecolor\": \"#2a3f5f\", \"gridcolor\": \"white\", \"linecolor\": \"white\", \"minorgridcolor\": \"white\", \"startlinecolor\": \"#2a3f5f\"}, \"baxis\": {\"endlinecolor\": \"#2a3f5f\", \"gridcolor\": \"white\", \"linecolor\": \"white\", \"minorgridcolor\": \"white\", \"startlinecolor\": \"#2a3f5f\"}, \"type\": \"carpet\"}], \"choropleth\": [{\"colorbar\": {\"outlinewidth\": 0, \"ticks\": \"\"}, \"type\": \"choropleth\"}], \"contour\": [{\"colorbar\": {\"outlinewidth\": 0, \"ticks\": \"\"}, \"colorscale\": [[0.0, \"#0d0887\"], [0.1111111111111111, \"#46039f\"], [0.2222222222222222, \"#7201a8\"], [0.3333333333333333, \"#9c179e\"], [0.4444444444444444, \"#bd3786\"], [0.5555555555555556, \"#d8576b\"], [0.6666666666666666, \"#ed7953\"], [0.7777777777777778, \"#fb9f3a\"], [0.8888888888888888, \"#fdca26\"], [1.0, \"#f0f921\"]], \"type\": \"contour\"}], \"contourcarpet\": [{\"colorbar\": {\"outlinewidth\": 0, \"ticks\": \"\"}, \"type\": \"contourcarpet\"}], \"heatmap\": [{\"colorbar\": {\"outlinewidth\": 0, \"ticks\": \"\"}, \"colorscale\": [[0.0, \"#0d0887\"], [0.1111111111111111, \"#46039f\"], [0.2222222222222222, \"#7201a8\"], [0.3333333333333333, \"#9c179e\"], [0.4444444444444444, \"#bd3786\"], [0.5555555555555556, \"#d8576b\"], [0.6666666666666666, \"#ed7953\"], [0.7777777777777778, \"#fb9f3a\"], [0.8888888888888888, \"#fdca26\"], [1.0, \"#f0f921\"]], \"type\": \"heatmap\"}], \"heatmapgl\": [{\"colorbar\": {\"outlinewidth\": 0, \"ticks\": \"\"}, \"colorscale\": [[0.0, \"#0d0887\"], [0.1111111111111111, \"#46039f\"], [0.2222222222222222, \"#7201a8\"], [0.3333333333333333, \"#9c179e\"], [0.4444444444444444, \"#bd3786\"], [0.5555555555555556, \"#d8576b\"], [0.6666666666666666, \"#ed7953\"], [0.7777777777777778, \"#fb9f3a\"], [0.8888888888888888, \"#fdca26\"], [1.0, \"#f0f921\"]], \"type\": \"heatmapgl\"}], \"histogram\": [{\"marker\": {\"colorbar\": {\"outlinewidth\": 0, \"ticks\": \"\"}}, \"type\": \"histogram\"}], \"histogram2d\": [{\"colorbar\": {\"outlinewidth\": 0, \"ticks\": \"\"}, \"colorscale\": [[0.0, \"#0d0887\"], [0.1111111111111111, \"#46039f\"], [0.2222222222222222, \"#7201a8\"], [0.3333333333333333, \"#9c179e\"], [0.4444444444444444, \"#bd3786\"], [0.5555555555555556, \"#d8576b\"], [0.6666666666666666, \"#ed7953\"], [0.7777777777777778, \"#fb9f3a\"], [0.8888888888888888, \"#fdca26\"], [1.0, \"#f0f921\"]], \"type\": \"histogram2d\"}], \"histogram2dcontour\": [{\"colorbar\": {\"outlinewidth\": 0, \"ticks\": \"\"}, \"colorscale\": [[0.0, \"#0d0887\"], [0.1111111111111111, \"#46039f\"], [0.2222222222222222, \"#7201a8\"], [0.3333333333333333, \"#9c179e\"], [0.4444444444444444, \"#bd3786\"], [0.5555555555555556, \"#d8576b\"], [0.6666666666666666, \"#ed7953\"], [0.7777777777777778, \"#fb9f3a\"], [0.8888888888888888, \"#fdca26\"], [1.0, \"#f0f921\"]], \"type\": \"histogram2dcontour\"}], \"mesh3d\": [{\"colorbar\": {\"outlinewidth\": 0, \"ticks\": \"\"}, \"type\": \"mesh3d\"}], \"parcoords\": [{\"line\": {\"colorbar\": {\"outlinewidth\": 0, \"ticks\": \"\"}}, \"type\": \"parcoords\"}], \"pie\": [{\"automargin\": true, \"type\": \"pie\"}], \"scatter\": [{\"marker\": {\"colorbar\": {\"outlinewidth\": 0, \"ticks\": \"\"}}, \"type\": \"scatter\"}], \"scatter3d\": [{\"line\": {\"colorbar\": {\"outlinewidth\": 0, \"ticks\": \"\"}}, \"marker\": {\"colorbar\": {\"outlinewidth\": 0, \"ticks\": \"\"}}, \"type\": \"scatter3d\"}], \"scattercarpet\": [{\"marker\": {\"colorbar\": {\"outlinewidth\": 0, \"ticks\": \"\"}}, \"type\": \"scattercarpet\"}], \"scattergeo\": [{\"marker\": {\"colorbar\": {\"outlinewidth\": 0, \"ticks\": \"\"}}, \"type\": \"scattergeo\"}], \"scattergl\": [{\"marker\": {\"colorbar\": {\"outlinewidth\": 0, \"ticks\": \"\"}}, \"type\": \"scattergl\"}], \"scattermapbox\": [{\"marker\": {\"colorbar\": {\"outlinewidth\": 0, \"ticks\": \"\"}}, \"type\": \"scattermapbox\"}], \"scatterpolar\": [{\"marker\": {\"colorbar\": {\"outlinewidth\": 0, \"ticks\": \"\"}}, \"type\": \"scatterpolar\"}], \"scatterpolargl\": [{\"marker\": {\"colorbar\": {\"outlinewidth\": 0, \"ticks\": \"\"}}, \"type\": \"scatterpolargl\"}], \"scatterternary\": [{\"marker\": {\"colorbar\": {\"outlinewidth\": 0, \"ticks\": \"\"}}, \"type\": \"scatterternary\"}], \"surface\": [{\"colorbar\": {\"outlinewidth\": 0, \"ticks\": \"\"}, \"colorscale\": [[0.0, \"#0d0887\"], [0.1111111111111111, \"#46039f\"], [0.2222222222222222, \"#7201a8\"], [0.3333333333333333, \"#9c179e\"], [0.4444444444444444, \"#bd3786\"], [0.5555555555555556, \"#d8576b\"], [0.6666666666666666, \"#ed7953\"], [0.7777777777777778, \"#fb9f3a\"], [0.8888888888888888, \"#fdca26\"], [1.0, \"#f0f921\"]], \"type\": \"surface\"}], \"table\": [{\"cells\": {\"fill\": {\"color\": \"#EBF0F8\"}, \"line\": {\"color\": \"white\"}}, \"header\": {\"fill\": {\"color\": \"#C8D4E3\"}, \"line\": {\"color\": \"white\"}}, \"type\": \"table\"}]}, \"layout\": {\"annotationdefaults\": {\"arrowcolor\": \"#2a3f5f\", \"arrowhead\": 0, \"arrowwidth\": 1}, \"coloraxis\": {\"colorbar\": {\"outlinewidth\": 0, \"ticks\": \"\"}}, \"colorscale\": {\"diverging\": [[0, \"#8e0152\"], [0.1, \"#c51b7d\"], [0.2, \"#de77ae\"], [0.3, \"#f1b6da\"], [0.4, \"#fde0ef\"], [0.5, \"#f7f7f7\"], [0.6, \"#e6f5d0\"], [0.7, \"#b8e186\"], [0.8, \"#7fbc41\"], [0.9, \"#4d9221\"], [1, \"#276419\"]], \"sequential\": [[0.0, \"#0d0887\"], [0.1111111111111111, \"#46039f\"], [0.2222222222222222, \"#7201a8\"], [0.3333333333333333, \"#9c179e\"], [0.4444444444444444, \"#bd3786\"], [0.5555555555555556, \"#d8576b\"], [0.6666666666666666, \"#ed7953\"], [0.7777777777777778, \"#fb9f3a\"], [0.8888888888888888, \"#fdca26\"], [1.0, \"#f0f921\"]], \"sequentialminus\": [[0.0, \"#0d0887\"], [0.1111111111111111, \"#46039f\"], [0.2222222222222222, \"#7201a8\"], [0.3333333333333333, \"#9c179e\"], [0.4444444444444444, \"#bd3786\"], [0.5555555555555556, \"#d8576b\"], [0.6666666666666666, \"#ed7953\"], [0.7777777777777778, \"#fb9f3a\"], [0.8888888888888888, \"#fdca26\"], [1.0, \"#f0f921\"]]}, \"colorway\": [\"#636efa\", \"#EF553B\", \"#00cc96\", \"#ab63fa\", \"#FFA15A\", \"#19d3f3\", \"#FF6692\", \"#B6E880\", \"#FF97FF\", \"#FECB52\"], \"font\": {\"color\": \"#2a3f5f\"}, \"geo\": {\"bgcolor\": \"white\", \"lakecolor\": \"white\", \"landcolor\": \"#E5ECF6\", \"showlakes\": true, \"showland\": true, \"subunitcolor\": \"white\"}, \"hoverlabel\": {\"align\": \"left\"}, \"hovermode\": \"closest\", \"mapbox\": {\"style\": \"light\"}, \"paper_bgcolor\": \"white\", \"plot_bgcolor\": \"#E5ECF6\", \"polar\": {\"angularaxis\": {\"gridcolor\": \"white\", \"linecolor\": \"white\", \"ticks\": \"\"}, \"bgcolor\": \"#E5ECF6\", \"radialaxis\": {\"gridcolor\": \"white\", \"linecolor\": \"white\", \"ticks\": \"\"}}, \"scene\": {\"xaxis\": {\"backgroundcolor\": \"#E5ECF6\", \"gridcolor\": \"white\", \"gridwidth\": 2, \"linecolor\": \"white\", \"showbackground\": true, \"ticks\": \"\", \"zerolinecolor\": \"white\"}, \"yaxis\": {\"backgroundcolor\": \"#E5ECF6\", \"gridcolor\": \"white\", \"gridwidth\": 2, \"linecolor\": \"white\", \"showbackground\": true, \"ticks\": \"\", \"zerolinecolor\": \"white\"}, \"zaxis\": {\"backgroundcolor\": \"#E5ECF6\", \"gridcolor\": \"white\", \"gridwidth\": 2, \"linecolor\": \"white\", \"showbackground\": true, \"ticks\": \"\", \"zerolinecolor\": \"white\"}}, \"shapedefaults\": {\"line\": {\"color\": \"#2a3f5f\"}}, \"ternary\": {\"aaxis\": {\"gridcolor\": \"white\", \"linecolor\": \"white\", \"ticks\": \"\"}, \"baxis\": {\"gridcolor\": \"white\", \"linecolor\": \"white\", \"ticks\": \"\"}, \"bgcolor\": \"#E5ECF6\", \"caxis\": {\"gridcolor\": \"white\", \"linecolor\": \"white\", \"ticks\": \"\"}}, \"title\": {\"x\": 0.05}, \"xaxis\": {\"automargin\": true, \"gridcolor\": \"white\", \"linecolor\": \"white\", \"ticks\": \"\", \"title\": {\"standoff\": 15}, \"zerolinecolor\": \"white\", \"zerolinewidth\": 2}, \"yaxis\": {\"automargin\": true, \"gridcolor\": \"white\", \"linecolor\": \"white\", \"ticks\": \"\", \"title\": {\"standoff\": 15}, \"zerolinecolor\": \"white\", \"zerolinewidth\": 2}}}, \"title\": {\"text\": \"Average message length\"}, \"width\": 500, \"xaxis\": {\"anchor\": \"y\", \"domain\": [0.0, 1.0], \"title\": {\"text\": \"Name\"}}, \"yaxis\": {\"anchor\": \"x\", \"domain\": [0.0, 1.0], \"title\": {\"text\": \"Average char count\"}}},\n",
              "                        {\"responsive\": true}\n",
              "                    ).then(function(){\n",
              "                            \n",
              "var gd = document.getElementById('e060b941-f062-4384-b662-f75b44562830');\n",
              "var x = new MutationObserver(function (mutations, observer) {{\n",
              "        var display = window.getComputedStyle(gd).display;\n",
              "        if (!display || display === 'none') {{\n",
              "            console.log([gd, 'removed!']);\n",
              "            Plotly.purge(gd);\n",
              "            observer.disconnect();\n",
              "        }}\n",
              "}});\n",
              "\n",
              "// Listen for the removal of the full notebook cells\n",
              "var notebookContainer = gd.closest('#notebook-container');\n",
              "if (notebookContainer) {{\n",
              "    x.observe(notebookContainer, {childList: true});\n",
              "}}\n",
              "\n",
              "// Listen for the clearing of the current output cell\n",
              "var outputEl = gd.closest('.output');\n",
              "if (outputEl) {{\n",
              "    x.observe(outputEl, {childList: true});\n",
              "}}\n",
              "\n",
              "                        })\n",
              "                };\n",
              "                \n",
              "            </script>\n",
              "        </div>\n",
              "</body>\n",
              "</html>"
            ]
          },
          "metadata": {
            "tags": []
          }
        }
      ]
    },
    {
      "cell_type": "code",
      "metadata": {
        "colab": {
          "base_uri": "https://localhost:8080/",
          "height": 542
        },
        "id": "xj_5j73VG1Qk",
        "outputId": "5e41baea-12df-4e52-c46f-18a4c8333c0d"
      },
      "source": [
        "plt = px.bar(x = members,y = avg_words,labels= {\"x\":\"Name\",\"y\":\"Average words\"},width = 500, color = members,title = \"Average words in message\")\n",
        "plt.update_layout(showlegend=False)\n",
        "plt.show()"
      ],
      "execution_count": 94,
      "outputs": [
        {
          "output_type": "display_data",
          "data": {
            "text/html": [
              "<html>\n",
              "<head><meta charset=\"utf-8\" /></head>\n",
              "<body>\n",
              "    <div>\n",
              "            <script src=\"https://cdnjs.cloudflare.com/ajax/libs/mathjax/2.7.5/MathJax.js?config=TeX-AMS-MML_SVG\"></script><script type=\"text/javascript\">if (window.MathJax) {MathJax.Hub.Config({SVG: {font: \"STIX-Web\"}});}</script>\n",
              "                <script type=\"text/javascript\">window.PlotlyConfig = {MathJaxConfig: 'local'};</script>\n",
              "        <script src=\"https://cdn.plot.ly/plotly-latest.min.js\"></script>    \n",
              "            <div id=\"52b32c1e-2a2c-4a61-8776-d2c6d5fe4777\" class=\"plotly-graph-div\" style=\"height:525px; width:500px;\"></div>\n",
              "            <script type=\"text/javascript\">\n",
              "                \n",
              "                    window.PLOTLYENV=window.PLOTLYENV || {};\n",
              "                    \n",
              "                if (document.getElementById(\"52b32c1e-2a2c-4a61-8776-d2c6d5fe4777\")) {\n",
              "                    Plotly.newPlot(\n",
              "                        '52b32c1e-2a2c-4a61-8776-d2c6d5fe4777',\n",
              "                        [{\"alignmentgroup\": \"True\", \"hoverlabel\": {\"namelength\": 0}, \"hovertemplate\": \"color=Vandy<br>Name=%{x}<br>Average words=%{y}\", \"legendgroup\": \"color=Vandy\", \"marker\": {\"color\": \"#636efa\"}, \"name\": \"color=Vandy\", \"offsetgroup\": \"color=Vandy\", \"orientation\": \"v\", \"showlegend\": true, \"textposition\": \"auto\", \"type\": \"bar\", \"x\": [\"Vandy\"], \"xaxis\": \"x\", \"y\": [6], \"yaxis\": \"y\"}, {\"alignmentgroup\": \"True\", \"hoverlabel\": {\"namelength\": 0}, \"hovertemplate\": \"color=Baruni<br>Name=%{x}<br>Average words=%{y}\", \"legendgroup\": \"color=Baruni\", \"marker\": {\"color\": \"#EF553B\"}, \"name\": \"color=Baruni\", \"offsetgroup\": \"color=Baruni\", \"orientation\": \"v\", \"showlegend\": true, \"textposition\": \"auto\", \"type\": \"bar\", \"x\": [\"Baruni\"], \"xaxis\": \"x\", \"y\": [5], \"yaxis\": \"y\"}, {\"alignmentgroup\": \"True\", \"hoverlabel\": {\"namelength\": 0}, \"hovertemplate\": \"color=N O<br>Name=%{x}<br>Average words=%{y}\", \"legendgroup\": \"color=N O\", \"marker\": {\"color\": \"#00cc96\"}, \"name\": \"color=N O\", \"offsetgroup\": \"color=N O\", \"orientation\": \"v\", \"showlegend\": true, \"textposition\": \"auto\", \"type\": \"bar\", \"x\": [\"N O\"], \"xaxis\": \"x\", \"y\": [7], \"yaxis\": \"y\"}, {\"alignmentgroup\": \"True\", \"hoverlabel\": {\"namelength\": 0}, \"hovertemplate\": \"color=Aditi<br>Name=%{x}<br>Average words=%{y}\", \"legendgroup\": \"color=Aditi\", \"marker\": {\"color\": \"#ab63fa\"}, \"name\": \"color=Aditi\", \"offsetgroup\": \"color=Aditi\", \"orientation\": \"v\", \"showlegend\": true, \"textposition\": \"auto\", \"type\": \"bar\", \"x\": [\"Aditi\"], \"xaxis\": \"x\", \"y\": [5], \"yaxis\": \"y\"}, {\"alignmentgroup\": \"True\", \"hoverlabel\": {\"namelength\": 0}, \"hovertemplate\": \"color=Kartik M<br>Name=%{x}<br>Average words=%{y}\", \"legendgroup\": \"color=Kartik M\", \"marker\": {\"color\": \"#FFA15A\"}, \"name\": \"color=Kartik M\", \"offsetgroup\": \"color=Kartik M\", \"orientation\": \"v\", \"showlegend\": true, \"textposition\": \"auto\", \"type\": \"bar\", \"x\": [\"Kartik M\"], \"xaxis\": \"x\", \"y\": [7], \"yaxis\": \"y\"}, {\"alignmentgroup\": \"True\", \"hoverlabel\": {\"namelength\": 0}, \"hovertemplate\": \"color=Harshit M<br>Name=%{x}<br>Average words=%{y}\", \"legendgroup\": \"color=Harshit M\", \"marker\": {\"color\": \"#19d3f3\"}, \"name\": \"color=Harshit M\", \"offsetgroup\": \"color=Harshit M\", \"orientation\": \"v\", \"showlegend\": true, \"textposition\": \"auto\", \"type\": \"bar\", \"x\": [\"Harshit M\"], \"xaxis\": \"x\", \"y\": [3], \"yaxis\": \"y\"}],\n",
              "                        {\"barmode\": \"relative\", \"legend\": {\"tracegroupgap\": 0}, \"showlegend\": false, \"template\": {\"data\": {\"bar\": [{\"error_x\": {\"color\": \"#2a3f5f\"}, \"error_y\": {\"color\": \"#2a3f5f\"}, \"marker\": {\"line\": {\"color\": \"#E5ECF6\", \"width\": 0.5}}, \"type\": \"bar\"}], \"barpolar\": [{\"marker\": {\"line\": {\"color\": \"#E5ECF6\", \"width\": 0.5}}, \"type\": \"barpolar\"}], \"carpet\": [{\"aaxis\": {\"endlinecolor\": \"#2a3f5f\", \"gridcolor\": \"white\", \"linecolor\": \"white\", \"minorgridcolor\": \"white\", \"startlinecolor\": \"#2a3f5f\"}, \"baxis\": {\"endlinecolor\": \"#2a3f5f\", \"gridcolor\": \"white\", \"linecolor\": \"white\", \"minorgridcolor\": \"white\", \"startlinecolor\": \"#2a3f5f\"}, \"type\": \"carpet\"}], \"choropleth\": [{\"colorbar\": {\"outlinewidth\": 0, \"ticks\": \"\"}, \"type\": \"choropleth\"}], \"contour\": [{\"colorbar\": {\"outlinewidth\": 0, \"ticks\": \"\"}, \"colorscale\": [[0.0, \"#0d0887\"], [0.1111111111111111, \"#46039f\"], [0.2222222222222222, \"#7201a8\"], [0.3333333333333333, \"#9c179e\"], [0.4444444444444444, \"#bd3786\"], [0.5555555555555556, \"#d8576b\"], [0.6666666666666666, \"#ed7953\"], [0.7777777777777778, \"#fb9f3a\"], [0.8888888888888888, \"#fdca26\"], [1.0, \"#f0f921\"]], \"type\": \"contour\"}], \"contourcarpet\": [{\"colorbar\": {\"outlinewidth\": 0, \"ticks\": \"\"}, \"type\": \"contourcarpet\"}], \"heatmap\": [{\"colorbar\": {\"outlinewidth\": 0, \"ticks\": \"\"}, \"colorscale\": [[0.0, \"#0d0887\"], [0.1111111111111111, \"#46039f\"], [0.2222222222222222, \"#7201a8\"], [0.3333333333333333, \"#9c179e\"], [0.4444444444444444, \"#bd3786\"], [0.5555555555555556, \"#d8576b\"], [0.6666666666666666, \"#ed7953\"], [0.7777777777777778, \"#fb9f3a\"], [0.8888888888888888, \"#fdca26\"], [1.0, \"#f0f921\"]], \"type\": \"heatmap\"}], \"heatmapgl\": [{\"colorbar\": {\"outlinewidth\": 0, \"ticks\": \"\"}, \"colorscale\": [[0.0, \"#0d0887\"], [0.1111111111111111, \"#46039f\"], [0.2222222222222222, \"#7201a8\"], [0.3333333333333333, \"#9c179e\"], [0.4444444444444444, \"#bd3786\"], [0.5555555555555556, \"#d8576b\"], [0.6666666666666666, \"#ed7953\"], [0.7777777777777778, \"#fb9f3a\"], [0.8888888888888888, \"#fdca26\"], [1.0, \"#f0f921\"]], \"type\": \"heatmapgl\"}], \"histogram\": [{\"marker\": {\"colorbar\": {\"outlinewidth\": 0, \"ticks\": \"\"}}, \"type\": \"histogram\"}], \"histogram2d\": [{\"colorbar\": {\"outlinewidth\": 0, \"ticks\": \"\"}, \"colorscale\": [[0.0, \"#0d0887\"], [0.1111111111111111, \"#46039f\"], [0.2222222222222222, \"#7201a8\"], [0.3333333333333333, \"#9c179e\"], [0.4444444444444444, \"#bd3786\"], [0.5555555555555556, \"#d8576b\"], [0.6666666666666666, \"#ed7953\"], [0.7777777777777778, \"#fb9f3a\"], [0.8888888888888888, \"#fdca26\"], [1.0, \"#f0f921\"]], \"type\": \"histogram2d\"}], \"histogram2dcontour\": [{\"colorbar\": {\"outlinewidth\": 0, \"ticks\": \"\"}, \"colorscale\": [[0.0, \"#0d0887\"], [0.1111111111111111, \"#46039f\"], [0.2222222222222222, \"#7201a8\"], [0.3333333333333333, \"#9c179e\"], [0.4444444444444444, \"#bd3786\"], [0.5555555555555556, \"#d8576b\"], [0.6666666666666666, \"#ed7953\"], [0.7777777777777778, \"#fb9f3a\"], [0.8888888888888888, \"#fdca26\"], [1.0, \"#f0f921\"]], \"type\": \"histogram2dcontour\"}], \"mesh3d\": [{\"colorbar\": {\"outlinewidth\": 0, \"ticks\": \"\"}, \"type\": \"mesh3d\"}], \"parcoords\": [{\"line\": {\"colorbar\": {\"outlinewidth\": 0, \"ticks\": \"\"}}, \"type\": \"parcoords\"}], \"pie\": [{\"automargin\": true, \"type\": \"pie\"}], \"scatter\": [{\"marker\": {\"colorbar\": {\"outlinewidth\": 0, \"ticks\": \"\"}}, \"type\": \"scatter\"}], \"scatter3d\": [{\"line\": {\"colorbar\": {\"outlinewidth\": 0, \"ticks\": \"\"}}, \"marker\": {\"colorbar\": {\"outlinewidth\": 0, \"ticks\": \"\"}}, \"type\": \"scatter3d\"}], \"scattercarpet\": [{\"marker\": {\"colorbar\": {\"outlinewidth\": 0, \"ticks\": \"\"}}, \"type\": \"scattercarpet\"}], \"scattergeo\": [{\"marker\": {\"colorbar\": {\"outlinewidth\": 0, \"ticks\": \"\"}}, \"type\": \"scattergeo\"}], \"scattergl\": [{\"marker\": {\"colorbar\": {\"outlinewidth\": 0, \"ticks\": \"\"}}, \"type\": \"scattergl\"}], \"scattermapbox\": [{\"marker\": {\"colorbar\": {\"outlinewidth\": 0, \"ticks\": \"\"}}, \"type\": \"scattermapbox\"}], \"scatterpolar\": [{\"marker\": {\"colorbar\": {\"outlinewidth\": 0, \"ticks\": \"\"}}, \"type\": \"scatterpolar\"}], \"scatterpolargl\": [{\"marker\": {\"colorbar\": {\"outlinewidth\": 0, \"ticks\": \"\"}}, \"type\": \"scatterpolargl\"}], \"scatterternary\": [{\"marker\": {\"colorbar\": {\"outlinewidth\": 0, \"ticks\": \"\"}}, \"type\": \"scatterternary\"}], \"surface\": [{\"colorbar\": {\"outlinewidth\": 0, \"ticks\": \"\"}, \"colorscale\": [[0.0, \"#0d0887\"], [0.1111111111111111, \"#46039f\"], [0.2222222222222222, \"#7201a8\"], [0.3333333333333333, \"#9c179e\"], [0.4444444444444444, \"#bd3786\"], [0.5555555555555556, \"#d8576b\"], [0.6666666666666666, \"#ed7953\"], [0.7777777777777778, \"#fb9f3a\"], [0.8888888888888888, \"#fdca26\"], [1.0, \"#f0f921\"]], \"type\": \"surface\"}], \"table\": [{\"cells\": {\"fill\": {\"color\": \"#EBF0F8\"}, \"line\": {\"color\": \"white\"}}, \"header\": {\"fill\": {\"color\": \"#C8D4E3\"}, \"line\": {\"color\": \"white\"}}, \"type\": \"table\"}]}, \"layout\": {\"annotationdefaults\": {\"arrowcolor\": \"#2a3f5f\", \"arrowhead\": 0, \"arrowwidth\": 1}, \"coloraxis\": {\"colorbar\": {\"outlinewidth\": 0, \"ticks\": \"\"}}, \"colorscale\": {\"diverging\": [[0, \"#8e0152\"], [0.1, \"#c51b7d\"], [0.2, \"#de77ae\"], [0.3, \"#f1b6da\"], [0.4, \"#fde0ef\"], [0.5, \"#f7f7f7\"], [0.6, \"#e6f5d0\"], [0.7, \"#b8e186\"], [0.8, \"#7fbc41\"], [0.9, \"#4d9221\"], [1, \"#276419\"]], \"sequential\": [[0.0, \"#0d0887\"], [0.1111111111111111, \"#46039f\"], [0.2222222222222222, \"#7201a8\"], [0.3333333333333333, \"#9c179e\"], [0.4444444444444444, \"#bd3786\"], [0.5555555555555556, \"#d8576b\"], [0.6666666666666666, \"#ed7953\"], [0.7777777777777778, \"#fb9f3a\"], [0.8888888888888888, \"#fdca26\"], [1.0, \"#f0f921\"]], \"sequentialminus\": [[0.0, \"#0d0887\"], [0.1111111111111111, \"#46039f\"], [0.2222222222222222, \"#7201a8\"], [0.3333333333333333, \"#9c179e\"], [0.4444444444444444, \"#bd3786\"], [0.5555555555555556, \"#d8576b\"], [0.6666666666666666, \"#ed7953\"], [0.7777777777777778, \"#fb9f3a\"], [0.8888888888888888, \"#fdca26\"], [1.0, \"#f0f921\"]]}, \"colorway\": [\"#636efa\", \"#EF553B\", \"#00cc96\", \"#ab63fa\", \"#FFA15A\", \"#19d3f3\", \"#FF6692\", \"#B6E880\", \"#FF97FF\", \"#FECB52\"], \"font\": {\"color\": \"#2a3f5f\"}, \"geo\": {\"bgcolor\": \"white\", \"lakecolor\": \"white\", \"landcolor\": \"#E5ECF6\", \"showlakes\": true, \"showland\": true, \"subunitcolor\": \"white\"}, \"hoverlabel\": {\"align\": \"left\"}, \"hovermode\": \"closest\", \"mapbox\": {\"style\": \"light\"}, \"paper_bgcolor\": \"white\", \"plot_bgcolor\": \"#E5ECF6\", \"polar\": {\"angularaxis\": {\"gridcolor\": \"white\", \"linecolor\": \"white\", \"ticks\": \"\"}, \"bgcolor\": \"#E5ECF6\", \"radialaxis\": {\"gridcolor\": \"white\", \"linecolor\": \"white\", \"ticks\": \"\"}}, \"scene\": {\"xaxis\": {\"backgroundcolor\": \"#E5ECF6\", \"gridcolor\": \"white\", \"gridwidth\": 2, \"linecolor\": \"white\", \"showbackground\": true, \"ticks\": \"\", \"zerolinecolor\": \"white\"}, \"yaxis\": {\"backgroundcolor\": \"#E5ECF6\", \"gridcolor\": \"white\", \"gridwidth\": 2, \"linecolor\": \"white\", \"showbackground\": true, \"ticks\": \"\", \"zerolinecolor\": \"white\"}, \"zaxis\": {\"backgroundcolor\": \"#E5ECF6\", \"gridcolor\": \"white\", \"gridwidth\": 2, \"linecolor\": \"white\", \"showbackground\": true, \"ticks\": \"\", \"zerolinecolor\": \"white\"}}, \"shapedefaults\": {\"line\": {\"color\": \"#2a3f5f\"}}, \"ternary\": {\"aaxis\": {\"gridcolor\": \"white\", \"linecolor\": \"white\", \"ticks\": \"\"}, \"baxis\": {\"gridcolor\": \"white\", \"linecolor\": \"white\", \"ticks\": \"\"}, \"bgcolor\": \"#E5ECF6\", \"caxis\": {\"gridcolor\": \"white\", \"linecolor\": \"white\", \"ticks\": \"\"}}, \"title\": {\"x\": 0.05}, \"xaxis\": {\"automargin\": true, \"gridcolor\": \"white\", \"linecolor\": \"white\", \"ticks\": \"\", \"title\": {\"standoff\": 15}, \"zerolinecolor\": \"white\", \"zerolinewidth\": 2}, \"yaxis\": {\"automargin\": true, \"gridcolor\": \"white\", \"linecolor\": \"white\", \"ticks\": \"\", \"title\": {\"standoff\": 15}, \"zerolinecolor\": \"white\", \"zerolinewidth\": 2}}}, \"title\": {\"text\": \"Average words in message\"}, \"width\": 500, \"xaxis\": {\"anchor\": \"y\", \"domain\": [0.0, 1.0], \"title\": {\"text\": \"Name\"}}, \"yaxis\": {\"anchor\": \"x\", \"domain\": [0.0, 1.0], \"title\": {\"text\": \"Average words\"}}},\n",
              "                        {\"responsive\": true}\n",
              "                    ).then(function(){\n",
              "                            \n",
              "var gd = document.getElementById('52b32c1e-2a2c-4a61-8776-d2c6d5fe4777');\n",
              "var x = new MutationObserver(function (mutations, observer) {{\n",
              "        var display = window.getComputedStyle(gd).display;\n",
              "        if (!display || display === 'none') {{\n",
              "            console.log([gd, 'removed!']);\n",
              "            Plotly.purge(gd);\n",
              "            observer.disconnect();\n",
              "        }}\n",
              "}});\n",
              "\n",
              "// Listen for the removal of the full notebook cells\n",
              "var notebookContainer = gd.closest('#notebook-container');\n",
              "if (notebookContainer) {{\n",
              "    x.observe(notebookContainer, {childList: true});\n",
              "}}\n",
              "\n",
              "// Listen for the clearing of the current output cell\n",
              "var outputEl = gd.closest('.output');\n",
              "if (outputEl) {{\n",
              "    x.observe(outputEl, {childList: true});\n",
              "}}\n",
              "\n",
              "                        })\n",
              "                };\n",
              "                \n",
              "            </script>\n",
              "        </div>\n",
              "</body>\n",
              "</html>"
            ]
          },
          "metadata": {
            "tags": []
          }
        }
      ]
    },
    {
      "cell_type": "code",
      "metadata": {
        "id": "ZMvS8oV9Ml-1"
      },
      "source": [
        "max_length = df_messages[\"Length\"].max()\n",
        "longest_message = df_messages[df_messages[\"Length\"] == max_length]\n",
        "longest_message"
      ],
      "execution_count": null,
      "outputs": []
    },
    {
      "cell_type": "code",
      "metadata": {
        "id": "KJFzF1vUNDIn"
      },
      "source": [
        "date_df = df_messages.groupby(\"Date\").count()\n",
        "date_df.reset_index(inplace=True)\n",
        "date_df[\"Date_d\"] = pd.to_datetime(date_df['Date'],format='%d/%m/%y')\n",
        "date_df = date_df.sort_values(by='Date_d')"
      ],
      "execution_count": 73,
      "outputs": []
    },
    {
      "cell_type": "code",
      "metadata": {
        "colab": {
          "base_uri": "https://localhost:8080/",
          "height": 542
        },
        "id": "VchQpacqRFOI",
        "outputId": "eb1a3dab-c82e-4e87-fe40-ca232186374c"
      },
      "source": [
        "fig = px.line(date_df, x=\"Date_d\", y=\"Name\",  title='Number of Messages as time moves on.',labels={ \"Date_d\" : \"Date\",\"Name\": \"Message Count\"})\n",
        "fig.update_xaxes(nticks=20)\n",
        "fig.show()"
      ],
      "execution_count": 74,
      "outputs": [
        {
          "output_type": "display_data",
          "data": {
            "text/html": [
              "<html>\n",
              "<head><meta charset=\"utf-8\" /></head>\n",
              "<body>\n",
              "    <div>\n",
              "            <script src=\"https://cdnjs.cloudflare.com/ajax/libs/mathjax/2.7.5/MathJax.js?config=TeX-AMS-MML_SVG\"></script><script type=\"text/javascript\">if (window.MathJax) {MathJax.Hub.Config({SVG: {font: \"STIX-Web\"}});}</script>\n",
              "                <script type=\"text/javascript\">window.PlotlyConfig = {MathJaxConfig: 'local'};</script>\n",
              "        <script src=\"https://cdn.plot.ly/plotly-latest.min.js\"></script>    \n",
              "            <div id=\"ab61cbdf-4b40-4d46-b133-d2ea236c7cfa\" class=\"plotly-graph-div\" style=\"height:525px; width:100%;\"></div>\n",
              "            <script type=\"text/javascript\">\n",
              "                \n",
              "                    window.PLOTLYENV=window.PLOTLYENV || {};\n",
              "                    \n",
              "                if (document.getElementById(\"ab61cbdf-4b40-4d46-b133-d2ea236c7cfa\")) {\n",
              "                    Plotly.newPlot(\n",
              "                        'ab61cbdf-4b40-4d46-b133-d2ea236c7cfa',\n",
              "                        [{\"hoverlabel\": {\"namelength\": 0}, \"hovertemplate\": \"Date=%{x}<br>Message Count=%{y}\", \"legendgroup\": \"\", \"line\": {\"color\": \"#636efa\", \"dash\": \"solid\"}, \"mode\": \"lines\", \"name\": \"\", \"showlegend\": false, \"type\": \"scatter\", \"x\": [\"2020-10-24T00:00:00\", \"2020-10-27T00:00:00\", \"2020-10-28T00:00:00\", \"2020-10-30T00:00:00\", \"2020-10-31T00:00:00\", \"2020-11-07T00:00:00\", \"2020-11-08T00:00:00\", \"2020-11-09T00:00:00\", \"2020-11-10T00:00:00\", \"2020-11-11T00:00:00\", \"2020-11-13T00:00:00\", \"2020-11-14T00:00:00\", \"2020-11-18T00:00:00\", \"2020-11-20T00:00:00\", \"2020-11-22T00:00:00\", \"2020-11-29T00:00:00\", \"2020-11-30T00:00:00\", \"2020-12-01T00:00:00\", \"2020-12-03T00:00:00\", \"2020-12-05T00:00:00\", \"2020-12-06T00:00:00\", \"2020-12-07T00:00:00\", \"2020-12-08T00:00:00\", \"2020-12-09T00:00:00\", \"2020-12-10T00:00:00\", \"2020-12-12T00:00:00\", \"2020-12-17T00:00:00\", \"2020-12-20T00:00:00\", \"2020-12-21T00:00:00\", \"2020-12-22T00:00:00\", \"2020-12-23T00:00:00\", \"2020-12-24T00:00:00\", \"2020-12-25T00:00:00\", \"2020-12-26T00:00:00\", \"2020-12-27T00:00:00\", \"2020-12-30T00:00:00\", \"2020-12-31T00:00:00\", \"2021-01-01T00:00:00\", \"2021-01-02T00:00:00\", \"2021-01-04T00:00:00\", \"2021-01-05T00:00:00\", \"2021-01-07T00:00:00\", \"2021-01-09T00:00:00\", \"2021-01-10T00:00:00\", \"2021-01-11T00:00:00\", \"2021-01-12T00:00:00\", \"2021-01-13T00:00:00\", \"2021-01-15T00:00:00\", \"2021-01-16T00:00:00\", \"2021-01-17T00:00:00\", \"2021-01-19T00:00:00\", \"2021-01-21T00:00:00\", \"2021-01-22T00:00:00\", \"2021-01-26T00:00:00\", \"2021-01-27T00:00:00\"], \"xaxis\": \"x\", \"y\": [11, 3, 1, 58, 27, 57, 24, 25, 12, 61, 3, 12, 20, 25, 19, 17, 8, 10, 6, 2, 39, 4, 3, 7, 2, 13, 4, 20, 1, 7, 5, 14, 22, 17, 10, 8, 20, 7, 2, 21, 15, 2, 6, 2, 1, 9, 3, 29, 6, 18, 9, 3, 18, 24, 2], \"yaxis\": \"y\"}],\n",
              "                        {\"legend\": {\"tracegroupgap\": 0}, \"template\": {\"data\": {\"bar\": [{\"error_x\": {\"color\": \"#2a3f5f\"}, \"error_y\": {\"color\": \"#2a3f5f\"}, \"marker\": {\"line\": {\"color\": \"#E5ECF6\", \"width\": 0.5}}, \"type\": \"bar\"}], \"barpolar\": [{\"marker\": {\"line\": {\"color\": \"#E5ECF6\", \"width\": 0.5}}, \"type\": \"barpolar\"}], \"carpet\": [{\"aaxis\": {\"endlinecolor\": \"#2a3f5f\", \"gridcolor\": \"white\", \"linecolor\": \"white\", \"minorgridcolor\": \"white\", \"startlinecolor\": \"#2a3f5f\"}, \"baxis\": {\"endlinecolor\": \"#2a3f5f\", \"gridcolor\": \"white\", \"linecolor\": \"white\", \"minorgridcolor\": \"white\", \"startlinecolor\": \"#2a3f5f\"}, \"type\": \"carpet\"}], \"choropleth\": [{\"colorbar\": {\"outlinewidth\": 0, \"ticks\": \"\"}, \"type\": \"choropleth\"}], \"contour\": [{\"colorbar\": {\"outlinewidth\": 0, \"ticks\": \"\"}, \"colorscale\": [[0.0, \"#0d0887\"], [0.1111111111111111, \"#46039f\"], [0.2222222222222222, \"#7201a8\"], [0.3333333333333333, \"#9c179e\"], [0.4444444444444444, \"#bd3786\"], [0.5555555555555556, \"#d8576b\"], [0.6666666666666666, \"#ed7953\"], [0.7777777777777778, \"#fb9f3a\"], [0.8888888888888888, \"#fdca26\"], [1.0, \"#f0f921\"]], \"type\": \"contour\"}], \"contourcarpet\": [{\"colorbar\": {\"outlinewidth\": 0, \"ticks\": \"\"}, \"type\": \"contourcarpet\"}], \"heatmap\": [{\"colorbar\": {\"outlinewidth\": 0, \"ticks\": \"\"}, \"colorscale\": [[0.0, \"#0d0887\"], [0.1111111111111111, \"#46039f\"], [0.2222222222222222, \"#7201a8\"], [0.3333333333333333, \"#9c179e\"], [0.4444444444444444, \"#bd3786\"], [0.5555555555555556, \"#d8576b\"], [0.6666666666666666, \"#ed7953\"], [0.7777777777777778, \"#fb9f3a\"], [0.8888888888888888, \"#fdca26\"], [1.0, \"#f0f921\"]], \"type\": \"heatmap\"}], \"heatmapgl\": [{\"colorbar\": {\"outlinewidth\": 0, \"ticks\": \"\"}, \"colorscale\": [[0.0, \"#0d0887\"], [0.1111111111111111, \"#46039f\"], [0.2222222222222222, \"#7201a8\"], [0.3333333333333333, \"#9c179e\"], [0.4444444444444444, \"#bd3786\"], [0.5555555555555556, \"#d8576b\"], [0.6666666666666666, \"#ed7953\"], [0.7777777777777778, \"#fb9f3a\"], [0.8888888888888888, \"#fdca26\"], [1.0, \"#f0f921\"]], \"type\": \"heatmapgl\"}], \"histogram\": [{\"marker\": {\"colorbar\": {\"outlinewidth\": 0, \"ticks\": \"\"}}, \"type\": \"histogram\"}], \"histogram2d\": [{\"colorbar\": {\"outlinewidth\": 0, \"ticks\": \"\"}, \"colorscale\": [[0.0, \"#0d0887\"], [0.1111111111111111, \"#46039f\"], [0.2222222222222222, \"#7201a8\"], [0.3333333333333333, \"#9c179e\"], [0.4444444444444444, \"#bd3786\"], [0.5555555555555556, \"#d8576b\"], [0.6666666666666666, \"#ed7953\"], [0.7777777777777778, \"#fb9f3a\"], [0.8888888888888888, \"#fdca26\"], [1.0, \"#f0f921\"]], \"type\": \"histogram2d\"}], \"histogram2dcontour\": [{\"colorbar\": {\"outlinewidth\": 0, \"ticks\": \"\"}, \"colorscale\": [[0.0, \"#0d0887\"], [0.1111111111111111, \"#46039f\"], [0.2222222222222222, \"#7201a8\"], [0.3333333333333333, \"#9c179e\"], [0.4444444444444444, \"#bd3786\"], [0.5555555555555556, \"#d8576b\"], [0.6666666666666666, \"#ed7953\"], [0.7777777777777778, \"#fb9f3a\"], [0.8888888888888888, \"#fdca26\"], [1.0, \"#f0f921\"]], \"type\": \"histogram2dcontour\"}], \"mesh3d\": [{\"colorbar\": {\"outlinewidth\": 0, \"ticks\": \"\"}, \"type\": \"mesh3d\"}], \"parcoords\": [{\"line\": {\"colorbar\": {\"outlinewidth\": 0, \"ticks\": \"\"}}, \"type\": \"parcoords\"}], \"pie\": [{\"automargin\": true, \"type\": \"pie\"}], \"scatter\": [{\"marker\": {\"colorbar\": {\"outlinewidth\": 0, \"ticks\": \"\"}}, \"type\": \"scatter\"}], \"scatter3d\": [{\"line\": {\"colorbar\": {\"outlinewidth\": 0, \"ticks\": \"\"}}, \"marker\": {\"colorbar\": {\"outlinewidth\": 0, \"ticks\": \"\"}}, \"type\": \"scatter3d\"}], \"scattercarpet\": [{\"marker\": {\"colorbar\": {\"outlinewidth\": 0, \"ticks\": \"\"}}, \"type\": \"scattercarpet\"}], \"scattergeo\": [{\"marker\": {\"colorbar\": {\"outlinewidth\": 0, \"ticks\": \"\"}}, \"type\": \"scattergeo\"}], \"scattergl\": [{\"marker\": {\"colorbar\": {\"outlinewidth\": 0, \"ticks\": \"\"}}, \"type\": \"scattergl\"}], \"scattermapbox\": [{\"marker\": {\"colorbar\": {\"outlinewidth\": 0, \"ticks\": \"\"}}, \"type\": \"scattermapbox\"}], \"scatterpolar\": [{\"marker\": {\"colorbar\": {\"outlinewidth\": 0, \"ticks\": \"\"}}, \"type\": \"scatterpolar\"}], \"scatterpolargl\": [{\"marker\": {\"colorbar\": {\"outlinewidth\": 0, \"ticks\": \"\"}}, \"type\": \"scatterpolargl\"}], \"scatterternary\": [{\"marker\": {\"colorbar\": {\"outlinewidth\": 0, \"ticks\": \"\"}}, \"type\": \"scatterternary\"}], \"surface\": [{\"colorbar\": {\"outlinewidth\": 0, \"ticks\": \"\"}, \"colorscale\": [[0.0, \"#0d0887\"], [0.1111111111111111, \"#46039f\"], [0.2222222222222222, \"#7201a8\"], [0.3333333333333333, \"#9c179e\"], [0.4444444444444444, \"#bd3786\"], [0.5555555555555556, \"#d8576b\"], [0.6666666666666666, \"#ed7953\"], [0.7777777777777778, \"#fb9f3a\"], [0.8888888888888888, \"#fdca26\"], [1.0, \"#f0f921\"]], \"type\": \"surface\"}], \"table\": [{\"cells\": {\"fill\": {\"color\": \"#EBF0F8\"}, \"line\": {\"color\": \"white\"}}, \"header\": {\"fill\": {\"color\": \"#C8D4E3\"}, \"line\": {\"color\": \"white\"}}, \"type\": \"table\"}]}, \"layout\": {\"annotationdefaults\": {\"arrowcolor\": \"#2a3f5f\", \"arrowhead\": 0, \"arrowwidth\": 1}, \"coloraxis\": {\"colorbar\": {\"outlinewidth\": 0, \"ticks\": \"\"}}, \"colorscale\": {\"diverging\": [[0, \"#8e0152\"], [0.1, \"#c51b7d\"], [0.2, \"#de77ae\"], [0.3, \"#f1b6da\"], [0.4, \"#fde0ef\"], [0.5, \"#f7f7f7\"], [0.6, \"#e6f5d0\"], [0.7, \"#b8e186\"], [0.8, \"#7fbc41\"], [0.9, \"#4d9221\"], [1, \"#276419\"]], \"sequential\": [[0.0, \"#0d0887\"], [0.1111111111111111, \"#46039f\"], [0.2222222222222222, \"#7201a8\"], [0.3333333333333333, \"#9c179e\"], [0.4444444444444444, \"#bd3786\"], [0.5555555555555556, \"#d8576b\"], [0.6666666666666666, \"#ed7953\"], [0.7777777777777778, \"#fb9f3a\"], [0.8888888888888888, \"#fdca26\"], [1.0, \"#f0f921\"]], \"sequentialminus\": [[0.0, \"#0d0887\"], [0.1111111111111111, \"#46039f\"], [0.2222222222222222, \"#7201a8\"], [0.3333333333333333, \"#9c179e\"], [0.4444444444444444, \"#bd3786\"], [0.5555555555555556, \"#d8576b\"], [0.6666666666666666, \"#ed7953\"], [0.7777777777777778, \"#fb9f3a\"], [0.8888888888888888, \"#fdca26\"], [1.0, \"#f0f921\"]]}, \"colorway\": [\"#636efa\", \"#EF553B\", \"#00cc96\", \"#ab63fa\", \"#FFA15A\", \"#19d3f3\", \"#FF6692\", \"#B6E880\", \"#FF97FF\", \"#FECB52\"], \"font\": {\"color\": \"#2a3f5f\"}, \"geo\": {\"bgcolor\": \"white\", \"lakecolor\": \"white\", \"landcolor\": \"#E5ECF6\", \"showlakes\": true, \"showland\": true, \"subunitcolor\": \"white\"}, \"hoverlabel\": {\"align\": \"left\"}, \"hovermode\": \"closest\", \"mapbox\": {\"style\": \"light\"}, \"paper_bgcolor\": \"white\", \"plot_bgcolor\": \"#E5ECF6\", \"polar\": {\"angularaxis\": {\"gridcolor\": \"white\", \"linecolor\": \"white\", \"ticks\": \"\"}, \"bgcolor\": \"#E5ECF6\", \"radialaxis\": {\"gridcolor\": \"white\", \"linecolor\": \"white\", \"ticks\": \"\"}}, \"scene\": {\"xaxis\": {\"backgroundcolor\": \"#E5ECF6\", \"gridcolor\": \"white\", \"gridwidth\": 2, \"linecolor\": \"white\", \"showbackground\": true, \"ticks\": \"\", \"zerolinecolor\": \"white\"}, \"yaxis\": {\"backgroundcolor\": \"#E5ECF6\", \"gridcolor\": \"white\", \"gridwidth\": 2, \"linecolor\": \"white\", \"showbackground\": true, \"ticks\": \"\", \"zerolinecolor\": \"white\"}, \"zaxis\": {\"backgroundcolor\": \"#E5ECF6\", \"gridcolor\": \"white\", \"gridwidth\": 2, \"linecolor\": \"white\", \"showbackground\": true, \"ticks\": \"\", \"zerolinecolor\": \"white\"}}, \"shapedefaults\": {\"line\": {\"color\": \"#2a3f5f\"}}, \"ternary\": {\"aaxis\": {\"gridcolor\": \"white\", \"linecolor\": \"white\", \"ticks\": \"\"}, \"baxis\": {\"gridcolor\": \"white\", \"linecolor\": \"white\", \"ticks\": \"\"}, \"bgcolor\": \"#E5ECF6\", \"caxis\": {\"gridcolor\": \"white\", \"linecolor\": \"white\", \"ticks\": \"\"}}, \"title\": {\"x\": 0.05}, \"xaxis\": {\"automargin\": true, \"gridcolor\": \"white\", \"linecolor\": \"white\", \"ticks\": \"\", \"title\": {\"standoff\": 15}, \"zerolinecolor\": \"white\", \"zerolinewidth\": 2}, \"yaxis\": {\"automargin\": true, \"gridcolor\": \"white\", \"linecolor\": \"white\", \"ticks\": \"\", \"title\": {\"standoff\": 15}, \"zerolinecolor\": \"white\", \"zerolinewidth\": 2}}}, \"title\": {\"text\": \"Number of Messages as time moves on.\"}, \"xaxis\": {\"anchor\": \"y\", \"domain\": [0.0, 1.0], \"nticks\": 20, \"title\": {\"text\": \"Date\"}}, \"yaxis\": {\"anchor\": \"x\", \"domain\": [0.0, 1.0], \"title\": {\"text\": \"Message Count\"}}},\n",
              "                        {\"responsive\": true}\n",
              "                    ).then(function(){\n",
              "                            \n",
              "var gd = document.getElementById('ab61cbdf-4b40-4d46-b133-d2ea236c7cfa');\n",
              "var x = new MutationObserver(function (mutations, observer) {{\n",
              "        var display = window.getComputedStyle(gd).display;\n",
              "        if (!display || display === 'none') {{\n",
              "            console.log([gd, 'removed!']);\n",
              "            Plotly.purge(gd);\n",
              "            observer.disconnect();\n",
              "        }}\n",
              "}});\n",
              "\n",
              "// Listen for the removal of the full notebook cells\n",
              "var notebookContainer = gd.closest('#notebook-container');\n",
              "if (notebookContainer) {{\n",
              "    x.observe(notebookContainer, {childList: true});\n",
              "}}\n",
              "\n",
              "// Listen for the clearing of the current output cell\n",
              "var outputEl = gd.closest('.output');\n",
              "if (outputEl) {{\n",
              "    x.observe(outputEl, {childList: true});\n",
              "}}\n",
              "\n",
              "                        })\n",
              "                };\n",
              "                \n",
              "            </script>\n",
              "        </div>\n",
              "</body>\n",
              "</html>"
            ]
          },
          "metadata": {
            "tags": []
          }
        }
      ]
    },
    {
      "cell_type": "code",
      "metadata": {
        "colab": {
          "base_uri": "https://localhost:8080/",
          "height": 542
        },
        "id": "-0n2yydNSlWT",
        "outputId": "e48ae376-85a8-480e-f954-4e1924d9481d"
      },
      "source": [
        "df_name = date_df.sort_values(by = \"Content\",ascending=False)\n",
        "plt_3 = px.bar(x = df_name[\"Date\"].head(10),y = df_name[\"Content\"].head(10),labels = {\"x\":\"Date\",\"y\":\"Message Count\"},title = \"Busiest Days\")\n",
        "plt_3.show()"
      ],
      "execution_count": 89,
      "outputs": [
        {
          "output_type": "display_data",
          "data": {
            "text/html": [
              "<html>\n",
              "<head><meta charset=\"utf-8\" /></head>\n",
              "<body>\n",
              "    <div>\n",
              "            <script src=\"https://cdnjs.cloudflare.com/ajax/libs/mathjax/2.7.5/MathJax.js?config=TeX-AMS-MML_SVG\"></script><script type=\"text/javascript\">if (window.MathJax) {MathJax.Hub.Config({SVG: {font: \"STIX-Web\"}});}</script>\n",
              "                <script type=\"text/javascript\">window.PlotlyConfig = {MathJaxConfig: 'local'};</script>\n",
              "        <script src=\"https://cdn.plot.ly/plotly-latest.min.js\"></script>    \n",
              "            <div id=\"3593d615-a105-4a4b-9421-854aee8a508b\" class=\"plotly-graph-div\" style=\"height:525px; width:100%;\"></div>\n",
              "            <script type=\"text/javascript\">\n",
              "                \n",
              "                    window.PLOTLYENV=window.PLOTLYENV || {};\n",
              "                    \n",
              "                if (document.getElementById(\"3593d615-a105-4a4b-9421-854aee8a508b\")) {\n",
              "                    Plotly.newPlot(\n",
              "                        '3593d615-a105-4a4b-9421-854aee8a508b',\n",
              "                        [{\"alignmentgroup\": \"True\", \"hoverlabel\": {\"namelength\": 0}, \"hovertemplate\": \"Date=%{x}<br>Message Count=%{y}\", \"legendgroup\": \"\", \"marker\": {\"color\": \"#636efa\"}, \"name\": \"\", \"offsetgroup\": \"\", \"orientation\": \"v\", \"showlegend\": false, \"textposition\": \"auto\", \"type\": \"bar\", \"x\": [\"11/11/20\", \"30/10/20\", \"07/11/20\", \"06/12/20\", \"15/01/21\", \"31/10/20\", \"09/11/20\", \"20/11/20\", \"26/01/21\", \"08/11/20\"], \"xaxis\": \"x\", \"y\": [61, 58, 57, 39, 29, 27, 25, 25, 24, 24], \"yaxis\": \"y\"}],\n",
              "                        {\"barmode\": \"relative\", \"legend\": {\"tracegroupgap\": 0}, \"template\": {\"data\": {\"bar\": [{\"error_x\": {\"color\": \"#2a3f5f\"}, \"error_y\": {\"color\": \"#2a3f5f\"}, \"marker\": {\"line\": {\"color\": \"#E5ECF6\", \"width\": 0.5}}, \"type\": \"bar\"}], \"barpolar\": [{\"marker\": {\"line\": {\"color\": \"#E5ECF6\", \"width\": 0.5}}, \"type\": \"barpolar\"}], \"carpet\": [{\"aaxis\": {\"endlinecolor\": \"#2a3f5f\", \"gridcolor\": \"white\", \"linecolor\": \"white\", \"minorgridcolor\": \"white\", \"startlinecolor\": \"#2a3f5f\"}, \"baxis\": {\"endlinecolor\": \"#2a3f5f\", \"gridcolor\": \"white\", \"linecolor\": \"white\", \"minorgridcolor\": \"white\", \"startlinecolor\": \"#2a3f5f\"}, \"type\": \"carpet\"}], \"choropleth\": [{\"colorbar\": {\"outlinewidth\": 0, \"ticks\": \"\"}, \"type\": \"choropleth\"}], \"contour\": [{\"colorbar\": {\"outlinewidth\": 0, \"ticks\": \"\"}, \"colorscale\": [[0.0, \"#0d0887\"], [0.1111111111111111, \"#46039f\"], [0.2222222222222222, \"#7201a8\"], [0.3333333333333333, \"#9c179e\"], [0.4444444444444444, \"#bd3786\"], [0.5555555555555556, \"#d8576b\"], [0.6666666666666666, \"#ed7953\"], [0.7777777777777778, \"#fb9f3a\"], [0.8888888888888888, \"#fdca26\"], [1.0, \"#f0f921\"]], \"type\": \"contour\"}], \"contourcarpet\": [{\"colorbar\": {\"outlinewidth\": 0, \"ticks\": \"\"}, \"type\": \"contourcarpet\"}], \"heatmap\": [{\"colorbar\": {\"outlinewidth\": 0, \"ticks\": \"\"}, \"colorscale\": [[0.0, \"#0d0887\"], [0.1111111111111111, \"#46039f\"], [0.2222222222222222, \"#7201a8\"], [0.3333333333333333, \"#9c179e\"], [0.4444444444444444, \"#bd3786\"], [0.5555555555555556, \"#d8576b\"], [0.6666666666666666, \"#ed7953\"], [0.7777777777777778, \"#fb9f3a\"], [0.8888888888888888, \"#fdca26\"], [1.0, \"#f0f921\"]], \"type\": \"heatmap\"}], \"heatmapgl\": [{\"colorbar\": {\"outlinewidth\": 0, \"ticks\": \"\"}, \"colorscale\": [[0.0, \"#0d0887\"], [0.1111111111111111, \"#46039f\"], [0.2222222222222222, \"#7201a8\"], [0.3333333333333333, \"#9c179e\"], [0.4444444444444444, \"#bd3786\"], [0.5555555555555556, \"#d8576b\"], [0.6666666666666666, \"#ed7953\"], [0.7777777777777778, \"#fb9f3a\"], [0.8888888888888888, \"#fdca26\"], [1.0, \"#f0f921\"]], \"type\": \"heatmapgl\"}], \"histogram\": [{\"marker\": {\"colorbar\": {\"outlinewidth\": 0, \"ticks\": \"\"}}, \"type\": \"histogram\"}], \"histogram2d\": [{\"colorbar\": {\"outlinewidth\": 0, \"ticks\": \"\"}, \"colorscale\": [[0.0, \"#0d0887\"], [0.1111111111111111, \"#46039f\"], [0.2222222222222222, \"#7201a8\"], [0.3333333333333333, \"#9c179e\"], [0.4444444444444444, \"#bd3786\"], [0.5555555555555556, \"#d8576b\"], [0.6666666666666666, \"#ed7953\"], [0.7777777777777778, \"#fb9f3a\"], [0.8888888888888888, \"#fdca26\"], [1.0, \"#f0f921\"]], \"type\": \"histogram2d\"}], \"histogram2dcontour\": [{\"colorbar\": {\"outlinewidth\": 0, \"ticks\": \"\"}, \"colorscale\": [[0.0, \"#0d0887\"], [0.1111111111111111, \"#46039f\"], [0.2222222222222222, \"#7201a8\"], [0.3333333333333333, \"#9c179e\"], [0.4444444444444444, \"#bd3786\"], [0.5555555555555556, \"#d8576b\"], [0.6666666666666666, \"#ed7953\"], [0.7777777777777778, \"#fb9f3a\"], [0.8888888888888888, \"#fdca26\"], [1.0, \"#f0f921\"]], \"type\": \"histogram2dcontour\"}], \"mesh3d\": [{\"colorbar\": {\"outlinewidth\": 0, \"ticks\": \"\"}, \"type\": \"mesh3d\"}], \"parcoords\": [{\"line\": {\"colorbar\": {\"outlinewidth\": 0, \"ticks\": \"\"}}, \"type\": \"parcoords\"}], \"pie\": [{\"automargin\": true, \"type\": \"pie\"}], \"scatter\": [{\"marker\": {\"colorbar\": {\"outlinewidth\": 0, \"ticks\": \"\"}}, \"type\": \"scatter\"}], \"scatter3d\": [{\"line\": {\"colorbar\": {\"outlinewidth\": 0, \"ticks\": \"\"}}, \"marker\": {\"colorbar\": {\"outlinewidth\": 0, \"ticks\": \"\"}}, \"type\": \"scatter3d\"}], \"scattercarpet\": [{\"marker\": {\"colorbar\": {\"outlinewidth\": 0, \"ticks\": \"\"}}, \"type\": \"scattercarpet\"}], \"scattergeo\": [{\"marker\": {\"colorbar\": {\"outlinewidth\": 0, \"ticks\": \"\"}}, \"type\": \"scattergeo\"}], \"scattergl\": [{\"marker\": {\"colorbar\": {\"outlinewidth\": 0, \"ticks\": \"\"}}, \"type\": \"scattergl\"}], \"scattermapbox\": [{\"marker\": {\"colorbar\": {\"outlinewidth\": 0, \"ticks\": \"\"}}, \"type\": \"scattermapbox\"}], \"scatterpolar\": [{\"marker\": {\"colorbar\": {\"outlinewidth\": 0, \"ticks\": \"\"}}, \"type\": \"scatterpolar\"}], \"scatterpolargl\": [{\"marker\": {\"colorbar\": {\"outlinewidth\": 0, \"ticks\": \"\"}}, \"type\": \"scatterpolargl\"}], \"scatterternary\": [{\"marker\": {\"colorbar\": {\"outlinewidth\": 0, \"ticks\": \"\"}}, \"type\": \"scatterternary\"}], \"surface\": [{\"colorbar\": {\"outlinewidth\": 0, \"ticks\": \"\"}, \"colorscale\": [[0.0, \"#0d0887\"], [0.1111111111111111, \"#46039f\"], [0.2222222222222222, \"#7201a8\"], [0.3333333333333333, \"#9c179e\"], [0.4444444444444444, \"#bd3786\"], [0.5555555555555556, \"#d8576b\"], [0.6666666666666666, \"#ed7953\"], [0.7777777777777778, \"#fb9f3a\"], [0.8888888888888888, \"#fdca26\"], [1.0, \"#f0f921\"]], \"type\": \"surface\"}], \"table\": [{\"cells\": {\"fill\": {\"color\": \"#EBF0F8\"}, \"line\": {\"color\": \"white\"}}, \"header\": {\"fill\": {\"color\": \"#C8D4E3\"}, \"line\": {\"color\": \"white\"}}, \"type\": \"table\"}]}, \"layout\": {\"annotationdefaults\": {\"arrowcolor\": \"#2a3f5f\", \"arrowhead\": 0, \"arrowwidth\": 1}, \"coloraxis\": {\"colorbar\": {\"outlinewidth\": 0, \"ticks\": \"\"}}, \"colorscale\": {\"diverging\": [[0, \"#8e0152\"], [0.1, \"#c51b7d\"], [0.2, \"#de77ae\"], [0.3, \"#f1b6da\"], [0.4, \"#fde0ef\"], [0.5, \"#f7f7f7\"], [0.6, \"#e6f5d0\"], [0.7, \"#b8e186\"], [0.8, \"#7fbc41\"], [0.9, \"#4d9221\"], [1, \"#276419\"]], \"sequential\": [[0.0, \"#0d0887\"], [0.1111111111111111, \"#46039f\"], [0.2222222222222222, \"#7201a8\"], [0.3333333333333333, \"#9c179e\"], [0.4444444444444444, \"#bd3786\"], [0.5555555555555556, \"#d8576b\"], [0.6666666666666666, \"#ed7953\"], [0.7777777777777778, \"#fb9f3a\"], [0.8888888888888888, \"#fdca26\"], [1.0, \"#f0f921\"]], \"sequentialminus\": [[0.0, \"#0d0887\"], [0.1111111111111111, \"#46039f\"], [0.2222222222222222, \"#7201a8\"], [0.3333333333333333, \"#9c179e\"], [0.4444444444444444, \"#bd3786\"], [0.5555555555555556, \"#d8576b\"], [0.6666666666666666, \"#ed7953\"], [0.7777777777777778, \"#fb9f3a\"], [0.8888888888888888, \"#fdca26\"], [1.0, \"#f0f921\"]]}, \"colorway\": [\"#636efa\", \"#EF553B\", \"#00cc96\", \"#ab63fa\", \"#FFA15A\", \"#19d3f3\", \"#FF6692\", \"#B6E880\", \"#FF97FF\", \"#FECB52\"], \"font\": {\"color\": \"#2a3f5f\"}, \"geo\": {\"bgcolor\": \"white\", \"lakecolor\": \"white\", \"landcolor\": \"#E5ECF6\", \"showlakes\": true, \"showland\": true, \"subunitcolor\": \"white\"}, \"hoverlabel\": {\"align\": \"left\"}, \"hovermode\": \"closest\", \"mapbox\": {\"style\": \"light\"}, \"paper_bgcolor\": \"white\", \"plot_bgcolor\": \"#E5ECF6\", \"polar\": {\"angularaxis\": {\"gridcolor\": \"white\", \"linecolor\": \"white\", \"ticks\": \"\"}, \"bgcolor\": \"#E5ECF6\", \"radialaxis\": {\"gridcolor\": \"white\", \"linecolor\": \"white\", \"ticks\": \"\"}}, \"scene\": {\"xaxis\": {\"backgroundcolor\": \"#E5ECF6\", \"gridcolor\": \"white\", \"gridwidth\": 2, \"linecolor\": \"white\", \"showbackground\": true, \"ticks\": \"\", \"zerolinecolor\": \"white\"}, \"yaxis\": {\"backgroundcolor\": \"#E5ECF6\", \"gridcolor\": \"white\", \"gridwidth\": 2, \"linecolor\": \"white\", \"showbackground\": true, \"ticks\": \"\", \"zerolinecolor\": \"white\"}, \"zaxis\": {\"backgroundcolor\": \"#E5ECF6\", \"gridcolor\": \"white\", \"gridwidth\": 2, \"linecolor\": \"white\", \"showbackground\": true, \"ticks\": \"\", \"zerolinecolor\": \"white\"}}, \"shapedefaults\": {\"line\": {\"color\": \"#2a3f5f\"}}, \"ternary\": {\"aaxis\": {\"gridcolor\": \"white\", \"linecolor\": \"white\", \"ticks\": \"\"}, \"baxis\": {\"gridcolor\": \"white\", \"linecolor\": \"white\", \"ticks\": \"\"}, \"bgcolor\": \"#E5ECF6\", \"caxis\": {\"gridcolor\": \"white\", \"linecolor\": \"white\", \"ticks\": \"\"}}, \"title\": {\"x\": 0.05}, \"xaxis\": {\"automargin\": true, \"gridcolor\": \"white\", \"linecolor\": \"white\", \"ticks\": \"\", \"title\": {\"standoff\": 15}, \"zerolinecolor\": \"white\", \"zerolinewidth\": 2}, \"yaxis\": {\"automargin\": true, \"gridcolor\": \"white\", \"linecolor\": \"white\", \"ticks\": \"\", \"title\": {\"standoff\": 15}, \"zerolinecolor\": \"white\", \"zerolinewidth\": 2}}}, \"title\": {\"text\": \"Busiest Days\"}, \"xaxis\": {\"anchor\": \"y\", \"domain\": [0.0, 1.0], \"title\": {\"text\": \"Date\"}}, \"yaxis\": {\"anchor\": \"x\", \"domain\": [0.0, 1.0], \"title\": {\"text\": \"Message Count\"}}},\n",
              "                        {\"responsive\": true}\n",
              "                    ).then(function(){\n",
              "                            \n",
              "var gd = document.getElementById('3593d615-a105-4a4b-9421-854aee8a508b');\n",
              "var x = new MutationObserver(function (mutations, observer) {{\n",
              "        var display = window.getComputedStyle(gd).display;\n",
              "        if (!display || display === 'none') {{\n",
              "            console.log([gd, 'removed!']);\n",
              "            Plotly.purge(gd);\n",
              "            observer.disconnect();\n",
              "        }}\n",
              "}});\n",
              "\n",
              "// Listen for the removal of the full notebook cells\n",
              "var notebookContainer = gd.closest('#notebook-container');\n",
              "if (notebookContainer) {{\n",
              "    x.observe(notebookContainer, {childList: true});\n",
              "}}\n",
              "\n",
              "// Listen for the clearing of the current output cell\n",
              "var outputEl = gd.closest('.output');\n",
              "if (outputEl) {{\n",
              "    x.observe(outputEl, {childList: true});\n",
              "}}\n",
              "\n",
              "                        })\n",
              "                };\n",
              "                \n",
              "            </script>\n",
              "        </div>\n",
              "</body>\n",
              "</html>"
            ]
          },
          "metadata": {
            "tags": []
          }
        }
      ]
    },
    {
      "cell_type": "code",
      "metadata": {
        "id": "af3utU-A95Y4"
      },
      "source": [
        ""
      ],
      "execution_count": null,
      "outputs": []
    }
  ]
}